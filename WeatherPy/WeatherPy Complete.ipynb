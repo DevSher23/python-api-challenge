{
 "cells": [
  {
   "cell_type": "markdown",
   "metadata": {},
   "source": [
    "# WeatherPy\n",
    "----\n",
    "\n",
    "#### Analysis\n",
    "* Based on the data we can see that there seems to be no true correlation between cloudiness and lattitude. Although there are some highlighted spots of cloudiness more so at 0% and 100% this could be resulting due to the limitations of the percentage points.\n",
    "* Humidity within the DataFrame does not show to have a key impact in these cities, possibly due to the time of year that this data is being pulled and the more dry air for this time of year.\n",
    "* The windspeed in most of these cities tend to stay on the lower side showing between 0-10 degrees. This could be due to a factor of lower humidity in the air.  "
   ]
  },
  {
   "cell_type": "code",
   "execution_count": 1,
   "metadata": {
    "scrolled": true
   },
   "outputs": [],
   "source": [
    "# Dependencies and Setup\n",
    "import matplotlib.pyplot as plt\n",
    "import pandas as pd\n",
    "import numpy as np\n",
    "import requests\n",
    "import time\n",
    "from scipy.stats import linregress\n",
    "\n",
    "# Import API key\n",
    "from api_keys import weather_api_key\n",
    "\n",
    "# Incorporated citipy to determine city based on latitude and longitude\n",
    "from citipy import citipy\n",
    "\n",
    "# Output File (CSV)\n",
    "output_data_file = \"output_data/cities.csv\"\n",
    "\n",
    "# Range of latitudes and longitudes\n",
    "lat_range = (-90, 90)\n",
    "lng_range = (-180, 180)"
   ]
  },
  {
   "cell_type": "markdown",
   "metadata": {},
   "source": [
    "## Generate Cities List"
   ]
  },
  {
   "cell_type": "code",
   "execution_count": 2,
   "metadata": {},
   "outputs": [
    {
     "data": {
      "text/plain": [
       "649"
      ]
     },
     "execution_count": 2,
     "metadata": {},
     "output_type": "execute_result"
    }
   ],
   "source": [
    "# List for holding lat_lngs and cities\n",
    "lat_lngs = []\n",
    "cities = []\n",
    "\n",
    "# Create a set of random lat and lng combinations\n",
    "lats = np.random.uniform(lat_range[0], lat_range[1], size=1500)\n",
    "lngs = np.random.uniform(lng_range[0], lng_range[1], size=1500)\n",
    "lat_lngs = zip(lats, lngs)\n",
    "\n",
    "# Identify nearest city for each lat, lng combination\n",
    "for lat_lng in lat_lngs:\n",
    "    city = citipy.nearest_city(lat_lng[0], lat_lng[1]).city_name\n",
    "    \n",
    "    # If the city is unique, then add it to a our cities list\n",
    "    if city not in cities:\n",
    "        cities.append(city)\n",
    "\n",
    "# Print the city count to confirm sufficient count\n",
    "len(cities)"
   ]
  },
  {
   "cell_type": "markdown",
   "metadata": {},
   "source": [
    "### Perform API Calls\n",
    "* Perform a weather check on each city using a series of successive API calls.\n",
    "* Include a print log of each city as it'sbeing processed (with the city number and city name).\n"
   ]
  },
  {
   "cell_type": "code",
   "execution_count": 3,
   "metadata": {},
   "outputs": [
    {
     "name": "stdout",
     "output_type": "stream",
     "text": [
      "https://api.openweathermap.org/data/2.5/weather?appid=c478c9fc7283ac6a58b8865037bc7b36&units=Imperial&q=\n"
     ]
    }
   ],
   "source": [
    "url = \"https://api.openweathermap.org/data/2.5/weather?\"\n",
    "units = \"Imperial\"\n",
    "\n",
    "# Build query URL \n",
    "query_url = f\"{url}appid={weather_api_key}&units={units}&q=\"\n",
    "print(query_url)"
   ]
  },
  {
   "cell_type": "code",
   "execution_count": 4,
   "metadata": {
    "scrolled": true
   },
   "outputs": [
    {
     "name": "stdout",
     "output_type": "stream",
     "text": [
      "Beginning Data Retrieval\n",
      "-----------------------------\n",
      "Processing Record 1 of Set 1 | carnarvon\n",
      "Processing Record 2 of Set 1 | illoqqortoormiut\n",
      "City not found. Skipping...\n",
      "Processing Record 3 of Set 1 | tuktoyaktuk\n",
      "Processing Record 4 of Set 1 | bilma\n",
      "Processing Record 5 of Set 1 | hobart\n",
      "Processing Record 6 of Set 1 | jalpan\n",
      "Processing Record 7 of Set 1 | albany\n",
      "Processing Record 8 of Set 1 | chuy\n",
      "Processing Record 9 of Set 1 | isangel\n",
      "Processing Record 10 of Set 1 | qaanaaq\n",
      "Processing Record 11 of Set 1 | nikolskoye\n",
      "Processing Record 12 of Set 1 | dovolnoye\n",
      "Processing Record 13 of Set 1 | rikitea\n",
      "Processing Record 14 of Set 1 | vavozh\n",
      "Processing Record 15 of Set 1 | puerto escondido\n",
      "Processing Record 16 of Set 1 | ushuaia\n",
      "Processing Record 17 of Set 1 | hilo\n",
      "Processing Record 18 of Set 1 | norman wells\n",
      "Processing Record 19 of Set 1 | bayanday\n",
      "Processing Record 20 of Set 1 | jamestown\n",
      "Processing Record 21 of Set 1 | mandalgovi\n",
      "Processing Record 22 of Set 1 | sinnamary\n",
      "Processing Record 23 of Set 1 | vaitupu\n",
      "City not found. Skipping...\n",
      "Processing Record 24 of Set 1 | cape town\n",
      "Processing Record 25 of Set 1 | ribeira grande\n",
      "Processing Record 26 of Set 1 | hermanus\n",
      "Processing Record 27 of Set 1 | saskylakh\n",
      "Processing Record 28 of Set 1 | yellowknife\n",
      "Processing Record 29 of Set 1 | russellville\n",
      "Processing Record 30 of Set 1 | kieta\n",
      "Processing Record 31 of Set 1 | poum\n",
      "Processing Record 32 of Set 1 | cockburn town\n",
      "Processing Record 33 of Set 1 | mataura\n",
      "Processing Record 34 of Set 1 | new norfolk\n",
      "Processing Record 35 of Set 1 | tsihombe\n",
      "City not found. Skipping...\n",
      "Processing Record 36 of Set 1 | half moon bay\n",
      "Processing Record 37 of Set 1 | kyren\n",
      "Processing Record 38 of Set 1 | east london\n",
      "Processing Record 39 of Set 1 | dingle\n",
      "Processing Record 40 of Set 1 | ketchikan\n",
      "Processing Record 41 of Set 1 | waipawa\n",
      "Processing Record 42 of Set 1 | vaini\n",
      "Processing Record 43 of Set 1 | amudalavalasa\n",
      "Processing Record 44 of Set 1 | saint-pierre\n",
      "Processing Record 45 of Set 1 | xuddur\n",
      "Processing Record 46 of Set 1 | kodiak\n",
      "Processing Record 47 of Set 1 | porkhov\n",
      "Processing Record 48 of Set 1 | codrington\n",
      "Processing Record 49 of Set 1 | chokurdakh\n",
      "Processing Record 50 of Set 1 | andujar\n",
      "Processing Record 1 of Set 2 | sitka\n",
      "Processing Record 2 of Set 2 | puerto narino\n",
      "Processing Record 3 of Set 2 | bethel\n",
      "Processing Record 4 of Set 2 | najran\n",
      "Processing Record 5 of Set 2 | barentsburg\n",
      "City not found. Skipping...\n",
      "Processing Record 6 of Set 2 | sahrak\n",
      "City not found. Skipping...\n",
      "Processing Record 7 of Set 2 | busselton\n",
      "Processing Record 8 of Set 2 | chumikan\n",
      "Processing Record 9 of Set 2 | bluff\n",
      "Processing Record 10 of Set 2 | jacareacanga\n",
      "Processing Record 11 of Set 2 | iqaluit\n",
      "Processing Record 12 of Set 2 | caramay\n",
      "Processing Record 13 of Set 2 | hobyo\n",
      "Processing Record 14 of Set 2 | saldanha\n",
      "Processing Record 15 of Set 2 | mimongo\n",
      "Processing Record 16 of Set 2 | karlskrona\n",
      "Processing Record 17 of Set 2 | la ronge\n",
      "Processing Record 18 of Set 2 | san cristobal\n",
      "Processing Record 19 of Set 2 | attawapiskat\n",
      "City not found. Skipping...\n",
      "Processing Record 20 of Set 2 | quatre cocos\n",
      "Processing Record 21 of Set 2 | tautira\n",
      "Processing Record 22 of Set 2 | saint-georges\n",
      "Processing Record 23 of Set 2 | port lincoln\n",
      "Processing Record 24 of Set 2 | oussouye\n",
      "Processing Record 25 of Set 2 | urulga\n",
      "City not found. Skipping...\n",
      "Processing Record 26 of Set 2 | saint-philippe\n",
      "Processing Record 27 of Set 2 | butaritari\n",
      "Processing Record 28 of Set 2 | georgetown\n",
      "Processing Record 29 of Set 2 | taolanaro\n",
      "City not found. Skipping...\n",
      "Processing Record 30 of Set 2 | torbay\n",
      "Processing Record 31 of Set 2 | zhangye\n",
      "Processing Record 32 of Set 2 | matagami\n",
      "Processing Record 33 of Set 2 | marsh harbour\n",
      "Processing Record 34 of Set 2 | port alfred\n",
      "Processing Record 35 of Set 2 | dikson\n",
      "Processing Record 36 of Set 2 | viedma\n",
      "Processing Record 37 of Set 2 | zihuatanejo\n",
      "Processing Record 38 of Set 2 | lasa\n",
      "Processing Record 39 of Set 2 | vila velha\n",
      "Processing Record 40 of Set 2 | nanortalik\n",
      "Processing Record 41 of Set 2 | livenka\n",
      "Processing Record 42 of Set 2 | sabang\n",
      "Processing Record 43 of Set 2 | westport\n",
      "Processing Record 44 of Set 2 | punta arenas\n",
      "Processing Record 45 of Set 2 | suntar\n",
      "Processing Record 46 of Set 2 | kapaa\n",
      "Processing Record 47 of Set 2 | khatanga\n",
      "Processing Record 48 of Set 2 | ambodifototra\n",
      "City not found. Skipping...\n",
      "Processing Record 49 of Set 2 | wahran\n",
      "City not found. Skipping...\n",
      "Processing Record 50 of Set 2 | lavrentiya\n",
      "Processing Record 1 of Set 3 | katsuura\n",
      "Processing Record 2 of Set 3 | luderitz\n",
      "Processing Record 3 of Set 3 | atuona\n",
      "Processing Record 4 of Set 3 | arraial do cabo\n",
      "Processing Record 5 of Set 3 | bredasdorp\n",
      "Processing Record 6 of Set 3 | haicheng\n",
      "Processing Record 7 of Set 3 | kaitangata\n",
      "Processing Record 8 of Set 3 | bubaque\n",
      "Processing Record 9 of Set 3 | aykino\n",
      "Processing Record 10 of Set 3 | meyungs\n",
      "City not found. Skipping...\n",
      "Processing Record 11 of Set 3 | louisbourg\n",
      "City not found. Skipping...\n",
      "Processing Record 12 of Set 3 | puerto ayora\n",
      "Processing Record 13 of Set 3 | clifton\n",
      "Processing Record 14 of Set 3 | port elizabeth\n",
      "Processing Record 15 of Set 3 | pangnirtung\n",
      "Processing Record 16 of Set 3 | belmonte\n",
      "Processing Record 17 of Set 3 | lebu\n",
      "Processing Record 18 of Set 3 | kahului\n",
      "Processing Record 19 of Set 3 | aklavik\n",
      "Processing Record 20 of Set 3 | provideniya\n",
      "Processing Record 21 of Set 3 | paraiso\n",
      "Processing Record 22 of Set 3 | mys shmidta\n",
      "City not found. Skipping...\n",
      "Processing Record 23 of Set 3 | marawi\n",
      "Processing Record 24 of Set 3 | tigil\n",
      "Processing Record 25 of Set 3 | avarua\n",
      "Processing Record 26 of Set 3 | malakal\n",
      "Processing Record 27 of Set 3 | qaqortoq\n",
      "Processing Record 28 of Set 3 | brae\n",
      "Processing Record 29 of Set 3 | pisco\n",
      "Processing Record 30 of Set 3 | wanaka\n",
      "Processing Record 31 of Set 3 | hasaki\n",
      "Processing Record 32 of Set 3 | huarmey\n",
      "Processing Record 33 of Set 3 | batemans bay\n",
      "Processing Record 34 of Set 3 | tobermory\n",
      "Processing Record 35 of Set 3 | bissau\n",
      "Processing Record 36 of Set 3 | sobolevo\n",
      "Processing Record 37 of Set 3 | carutapera\n",
      "Processing Record 38 of Set 3 | granada\n",
      "Processing Record 39 of Set 3 | lata\n",
      "Processing Record 40 of Set 3 | saint george\n",
      "Processing Record 41 of Set 3 | rio cuarto\n",
      "Processing Record 42 of Set 3 | whitianga\n",
      "Processing Record 43 of Set 3 | torbat-e jam\n",
      "Processing Record 44 of Set 3 | riverton\n",
      "Processing Record 45 of Set 3 | shebalino\n",
      "Processing Record 46 of Set 3 | taltal\n",
      "Processing Record 47 of Set 3 | ngukurr\n",
      "City not found. Skipping...\n",
      "Processing Record 48 of Set 3 | bodoco\n",
      "City not found. Skipping...\n",
      "Processing Record 49 of Set 3 | lompoc\n",
      "Processing Record 50 of Set 3 | kavaratti\n",
      "Processing Record 1 of Set 4 | tucuman\n",
      "Processing Record 2 of Set 4 | tasiilaq\n",
      "Processing Record 3 of Set 4 | north bend\n",
      "Processing Record 4 of Set 4 | lunglei\n",
      "Processing Record 5 of Set 4 | krasnoborsk\n",
      "Processing Record 6 of Set 4 | tarakan\n",
      "Processing Record 7 of Set 4 | tiksi\n",
      "Processing Record 8 of Set 4 | mahebourg\n",
      "Processing Record 9 of Set 4 | aksarka\n",
      "Processing Record 10 of Set 4 | ostrovnoy\n",
      "Processing Record 11 of Set 4 | tuy hoa\n",
      "Processing Record 12 of Set 4 | makakilo city\n",
      "Processing Record 13 of Set 4 | hirado\n",
      "Processing Record 14 of Set 4 | umzimvubu\n",
      "City not found. Skipping...\n",
      "Processing Record 15 of Set 4 | bud\n",
      "Processing Record 16 of Set 4 | ozernovskiy\n",
      "Processing Record 17 of Set 4 | olafsvik\n",
      "Processing Record 18 of Set 4 | lagoa\n",
      "Processing Record 19 of Set 4 | nenton\n",
      "Processing Record 20 of Set 4 | bengkulu\n",
      "Processing Record 21 of Set 4 | castro\n",
      "Processing Record 22 of Set 4 | changji\n",
      "Processing Record 23 of Set 4 | fuerte olimpo\n",
      "Processing Record 24 of Set 4 | pierre\n",
      "Processing Record 25 of Set 4 | coihaique\n",
      "Processing Record 26 of Set 4 | knyaze-volkonskoye\n",
      "Processing Record 27 of Set 4 | thinadhoo\n",
      "Processing Record 28 of Set 4 | lolua\n",
      "City not found. Skipping...\n",
      "Processing Record 29 of Set 4 | ikungi\n",
      "Processing Record 30 of Set 4 | kupang\n",
      "Processing Record 31 of Set 4 | waupun\n",
      "Processing Record 32 of Set 4 | tacna\n",
      "Processing Record 33 of Set 4 | san quintin\n",
      "Processing Record 34 of Set 4 | marienburg\n",
      "Processing Record 35 of Set 4 | ahipara\n",
      "Processing Record 36 of Set 4 | mumford\n",
      "Processing Record 37 of Set 4 | leh\n"
     ]
    },
    {
     "name": "stdout",
     "output_type": "stream",
     "text": [
      "Processing Record 38 of Set 4 | rakai\n",
      "Processing Record 39 of Set 4 | ocolis\n",
      "City not found. Skipping...\n",
      "Processing Record 40 of Set 4 | capao da canoa\n",
      "Processing Record 41 of Set 4 | flin flon\n",
      "Processing Record 42 of Set 4 | rincon\n",
      "Processing Record 43 of Set 4 | garissa\n",
      "Processing Record 44 of Set 4 | upernavik\n",
      "Processing Record 45 of Set 4 | tres arroyos\n",
      "Processing Record 46 of Set 4 | mar del plata\n",
      "Processing Record 47 of Set 4 | puerto palomas\n",
      "Processing Record 48 of Set 4 | todos santos cuchumatan\n",
      "Processing Record 49 of Set 4 | severo-kurilsk\n",
      "Processing Record 50 of Set 4 | vestmannaeyjar\n",
      "Processing Record 1 of Set 5 | esperance\n",
      "Processing Record 2 of Set 5 | paamiut\n",
      "Processing Record 3 of Set 5 | longyearbyen\n",
      "Processing Record 4 of Set 5 | rio gallegos\n",
      "Processing Record 5 of Set 5 | corinto\n",
      "Processing Record 6 of Set 5 | vardo\n",
      "Processing Record 7 of Set 5 | luan\n",
      "Processing Record 8 of Set 5 | tairua\n",
      "Processing Record 9 of Set 5 | santa isabel do rio negro\n",
      "Processing Record 10 of Set 5 | bandarbeyla\n",
      "Processing Record 11 of Set 5 | tuatapere\n",
      "Processing Record 12 of Set 5 | thompson\n",
      "Processing Record 13 of Set 5 | champerico\n",
      "Processing Record 14 of Set 5 | pevek\n",
      "Processing Record 15 of Set 5 | ussel\n",
      "Processing Record 16 of Set 5 | mocuba\n",
      "Processing Record 17 of Set 5 | clyde river\n",
      "Processing Record 18 of Set 5 | evanston\n",
      "Processing Record 19 of Set 5 | husavik\n",
      "Processing Record 20 of Set 5 | constantine\n",
      "Processing Record 21 of Set 5 | sergeyevka\n",
      "Processing Record 22 of Set 5 | college\n",
      "Processing Record 23 of Set 5 | ankara\n",
      "Processing Record 24 of Set 5 | abilene\n",
      "Processing Record 25 of Set 5 | kruisfontein\n",
      "Processing Record 26 of Set 5 | san patricio\n",
      "Processing Record 27 of Set 5 | shelburne\n",
      "Processing Record 28 of Set 5 | charters towers\n",
      "Processing Record 29 of Set 5 | roald\n",
      "Processing Record 30 of Set 5 | kibala\n",
      "Processing Record 31 of Set 5 | gazanjyk\n",
      "Processing Record 32 of Set 5 | skelleftea\n",
      "Processing Record 33 of Set 5 | bankura\n",
      "Processing Record 34 of Set 5 | puri\n",
      "Processing Record 35 of Set 5 | patamundai\n",
      "Processing Record 36 of Set 5 | narsaq\n",
      "Processing Record 37 of Set 5 | tipuani\n",
      "Processing Record 38 of Set 5 | sept-iles\n",
      "Processing Record 39 of Set 5 | ancud\n",
      "Processing Record 40 of Set 5 | port-cartier\n",
      "Processing Record 41 of Set 5 | zhanaozen\n",
      "Processing Record 42 of Set 5 | shimoda\n",
      "Processing Record 43 of Set 5 | xining\n",
      "Processing Record 44 of Set 5 | artigas\n",
      "Processing Record 45 of Set 5 | alice springs\n",
      "Processing Record 46 of Set 5 | meulaboh\n",
      "Processing Record 47 of Set 5 | thunder bay\n",
      "Processing Record 48 of Set 5 | merrill\n",
      "Processing Record 49 of Set 5 | axim\n",
      "Processing Record 50 of Set 5 | hambantota\n",
      "Processing Record 1 of Set 6 | bandar\n",
      "Processing Record 2 of Set 6 | klaksvik\n",
      "Processing Record 3 of Set 6 | saint anthony\n",
      "Processing Record 4 of Set 6 | ambon\n",
      "Processing Record 5 of Set 6 | alofi\n",
      "Processing Record 6 of Set 6 | tshikapa\n",
      "Processing Record 7 of Set 6 | neiafu\n",
      "Processing Record 8 of Set 6 | candawaga\n",
      "City not found. Skipping...\n",
      "Processing Record 9 of Set 6 | joshimath\n",
      "Processing Record 10 of Set 6 | victoria\n",
      "Processing Record 11 of Set 6 | grants\n",
      "Processing Record 12 of Set 6 | les cayes\n",
      "Processing Record 13 of Set 6 | rantauprapat\n",
      "Processing Record 14 of Set 6 | barrow\n",
      "Processing Record 15 of Set 6 | kalaleh\n",
      "Processing Record 16 of Set 6 | anadyr\n",
      "Processing Record 17 of Set 6 | inderborskiy\n",
      "City not found. Skipping...\n",
      "Processing Record 18 of Set 6 | ahumada\n",
      "City not found. Skipping...\n",
      "Processing Record 19 of Set 6 | uzhhorod\n",
      "Processing Record 20 of Set 6 | turukhansk\n",
      "Processing Record 21 of Set 6 | roma\n",
      "Processing Record 22 of Set 6 | yeppoon\n",
      "Processing Record 23 of Set 6 | vila\n",
      "Processing Record 24 of Set 6 | milkovo\n",
      "Processing Record 25 of Set 6 | vao\n",
      "Processing Record 26 of Set 6 | salalah\n",
      "Processing Record 27 of Set 6 | fortuna\n",
      "Processing Record 28 of Set 6 | nizhneyansk\n",
      "City not found. Skipping...\n",
      "Processing Record 29 of Set 6 | zambezi\n",
      "Processing Record 30 of Set 6 | kosh-agach\n",
      "Processing Record 31 of Set 6 | cubara\n",
      "Processing Record 32 of Set 6 | lichinga\n",
      "Processing Record 33 of Set 6 | hualmay\n",
      "Processing Record 34 of Set 6 | cidreira\n",
      "Processing Record 35 of Set 6 | mount gambier\n",
      "Processing Record 36 of Set 6 | airai\n",
      "Processing Record 37 of Set 6 | senanga\n",
      "Processing Record 38 of Set 6 | little current\n",
      "Processing Record 39 of Set 6 | nuoro\n",
      "Processing Record 40 of Set 6 | grindavik\n",
      "Processing Record 41 of Set 6 | caravelas\n",
      "Processing Record 42 of Set 6 | butterworth\n",
      "Processing Record 43 of Set 6 | necochea\n",
      "Processing Record 44 of Set 6 | suez\n",
      "Processing Record 45 of Set 6 | mohiuddinagar\n",
      "City not found. Skipping...\n",
      "Processing Record 46 of Set 6 | hithadhoo\n",
      "Processing Record 47 of Set 6 | machachi\n",
      "Processing Record 48 of Set 6 | ayna\n",
      "Processing Record 49 of Set 6 | ilinsko-podomskoye\n",
      "City not found. Skipping...\n",
      "Processing Record 50 of Set 6 | belushya guba\n",
      "City not found. Skipping...\n",
      "Processing Record 1 of Set 7 | guerrero negro\n",
      "Processing Record 2 of Set 7 | pozo colorado\n",
      "Processing Record 3 of Set 7 | kalianget\n",
      "Processing Record 4 of Set 7 | rungata\n",
      "City not found. Skipping...\n",
      "Processing Record 5 of Set 7 | upata\n",
      "Processing Record 6 of Set 7 | hovd\n",
      "Processing Record 7 of Set 7 | maketu\n",
      "Processing Record 8 of Set 7 | okhotsk\n",
      "Processing Record 9 of Set 7 | merauke\n",
      "Processing Record 10 of Set 7 | saint-joseph\n",
      "Processing Record 11 of Set 7 | namatanai\n",
      "Processing Record 12 of Set 7 | buraydah\n",
      "Processing Record 13 of Set 7 | grand gaube\n",
      "Processing Record 14 of Set 7 | karaul\n",
      "City not found. Skipping...\n",
      "Processing Record 15 of Set 7 | arkhangelos\n",
      "City not found. Skipping...\n",
      "Processing Record 16 of Set 7 | swan river\n",
      "Processing Record 17 of Set 7 | mweka\n",
      "Processing Record 18 of Set 7 | buchanan\n",
      "Processing Record 19 of Set 7 | byron bay\n",
      "Processing Record 20 of Set 7 | ust-ishim\n",
      "Processing Record 21 of Set 7 | faanui\n",
      "Processing Record 22 of Set 7 | tecoanapa\n",
      "Processing Record 23 of Set 7 | juneau\n",
      "Processing Record 24 of Set 7 | sentyabrskiy\n",
      "City not found. Skipping...\n",
      "Processing Record 25 of Set 7 | falam\n",
      "Processing Record 26 of Set 7 | normandin\n",
      "Processing Record 27 of Set 7 | bambous virieux\n",
      "Processing Record 28 of Set 7 | praia da vitoria\n",
      "Processing Record 29 of Set 7 | lima\n",
      "Processing Record 30 of Set 7 | satitoa\n",
      "City not found. Skipping...\n",
      "Processing Record 31 of Set 7 | la union\n",
      "Processing Record 32 of Set 7 | acajutla\n",
      "Processing Record 33 of Set 7 | maun\n",
      "Processing Record 34 of Set 7 | somerset\n",
      "Processing Record 35 of Set 7 | southbridge\n",
      "Processing Record 36 of Set 7 | metro\n",
      "Processing Record 37 of Set 7 | tayga\n",
      "Processing Record 38 of Set 7 | mackay\n",
      "Processing Record 39 of Set 7 | jiuquan\n",
      "Processing Record 40 of Set 7 | grand river south east\n",
      "City not found. Skipping...\n",
      "Processing Record 41 of Set 7 | bennettsville\n",
      "Processing Record 42 of Set 7 | fort nelson\n",
      "Processing Record 43 of Set 7 | fochville\n",
      "Processing Record 44 of Set 7 | henties bay\n",
      "Processing Record 45 of Set 7 | malinovoye ozero\n",
      "Processing Record 46 of Set 7 | san policarpo\n",
      "Processing Record 47 of Set 7 | mount isa\n",
      "Processing Record 48 of Set 7 | shelbyville\n",
      "Processing Record 49 of Set 7 | avera\n",
      "Processing Record 50 of Set 7 | baghdad\n",
      "Processing Record 1 of Set 8 | pampa\n",
      "Processing Record 2 of Set 8 | ponta do sol\n",
      "Processing Record 3 of Set 8 | dolores\n",
      "Processing Record 4 of Set 8 | kisaran\n",
      "Processing Record 5 of Set 8 | winslow\n",
      "Processing Record 6 of Set 8 | inta\n",
      "Processing Record 7 of Set 8 | eisenerz\n",
      "Processing Record 8 of Set 8 | tocopilla\n",
      "Processing Record 9 of Set 8 | nome\n",
      "Processing Record 10 of Set 8 | saint-francois\n",
      "Processing Record 11 of Set 8 | qingquan\n",
      "Processing Record 12 of Set 8 | rantepao\n",
      "Processing Record 13 of Set 8 | tevaitoa\n",
      "Processing Record 14 of Set 8 | palabuhanratu\n",
      "City not found. Skipping...\n",
      "Processing Record 15 of Set 8 | sola\n",
      "Processing Record 16 of Set 8 | talnakh\n",
      "Processing Record 17 of Set 8 | lurgan\n",
      "Processing Record 18 of Set 8 | gorom-gorom\n",
      "Processing Record 19 of Set 8 | ginir\n",
      "Processing Record 20 of Set 8 | callaway\n",
      "Processing Record 21 of Set 8 | vila franca do campo\n",
      "Processing Record 22 of Set 8 | kamenskoye\n",
      "City not found. Skipping...\n",
      "Processing Record 23 of Set 8 | rassvet\n",
      "Processing Record 24 of Set 8 | vuktyl\n"
     ]
    },
    {
     "name": "stdout",
     "output_type": "stream",
     "text": [
      "Processing Record 25 of Set 8 | minab\n",
      "Processing Record 26 of Set 8 | victor harbor\n",
      "Processing Record 27 of Set 8 | sinazongwe\n",
      "Processing Record 28 of Set 8 | barawe\n",
      "City not found. Skipping...\n",
      "Processing Record 29 of Set 8 | emba\n",
      "Processing Record 30 of Set 8 | dhandhuka\n",
      "Processing Record 31 of Set 8 | acuna\n",
      "City not found. Skipping...\n",
      "Processing Record 32 of Set 8 | port hedland\n",
      "Processing Record 33 of Set 8 | roman\n",
      "Processing Record 34 of Set 8 | constitucion\n",
      "Processing Record 35 of Set 8 | moose factory\n",
      "Processing Record 36 of Set 8 | mahina\n",
      "Processing Record 37 of Set 8 | vanimo\n",
      "Processing Record 38 of Set 8 | djambala\n",
      "Processing Record 39 of Set 8 | alyangula\n",
      "Processing Record 40 of Set 8 | pali\n",
      "Processing Record 41 of Set 8 | igrim\n",
      "Processing Record 42 of Set 8 | isola del liri\n",
      "Processing Record 43 of Set 8 | dawei\n",
      "Processing Record 44 of Set 8 | tricase\n",
      "Processing Record 45 of Set 8 | bathsheba\n",
      "Processing Record 46 of Set 8 | port macquarie\n",
      "Processing Record 47 of Set 8 | pingliang\n",
      "Processing Record 48 of Set 8 | ust-omchug\n",
      "Processing Record 49 of Set 8 | hanna\n",
      "Processing Record 50 of Set 8 | ilulissat\n",
      "Processing Record 1 of Set 9 | manicore\n",
      "Processing Record 2 of Set 9 | shenjiamen\n",
      "Processing Record 3 of Set 9 | gizo\n",
      "Processing Record 4 of Set 9 | halalo\n",
      "City not found. Skipping...\n",
      "Processing Record 5 of Set 9 | kuzino\n",
      "Processing Record 6 of Set 9 | catuday\n",
      "Processing Record 7 of Set 9 | hun\n",
      "Processing Record 8 of Set 9 | maraba\n",
      "Processing Record 9 of Set 9 | calatayud\n",
      "Processing Record 10 of Set 9 | sungairaya\n",
      "Processing Record 11 of Set 9 | solsvik\n",
      "City not found. Skipping...\n",
      "Processing Record 12 of Set 9 | cherskiy\n",
      "Processing Record 13 of Set 9 | ambilobe\n",
      "Processing Record 14 of Set 9 | praia\n",
      "Processing Record 15 of Set 9 | ilebo\n",
      "Processing Record 16 of Set 9 | westerland\n",
      "Processing Record 17 of Set 9 | samarai\n",
      "Processing Record 18 of Set 9 | nelson bay\n",
      "Processing Record 19 of Set 9 | chapais\n",
      "Processing Record 20 of Set 9 | poso\n",
      "Processing Record 21 of Set 9 | bonavista\n",
      "Processing Record 22 of Set 9 | kaina\n",
      "Processing Record 23 of Set 9 | mehamn\n",
      "Processing Record 24 of Set 9 | ekibastuz\n",
      "Processing Record 25 of Set 9 | kutum\n",
      "Processing Record 26 of Set 9 | ucluelet\n",
      "Processing Record 27 of Set 9 | jumla\n",
      "Processing Record 28 of Set 9 | brabova\n",
      "Processing Record 29 of Set 9 | zeya\n",
      "Processing Record 30 of Set 9 | fredericksburg\n",
      "Processing Record 31 of Set 9 | phonhong\n",
      "Processing Record 32 of Set 9 | aljezur\n",
      "Processing Record 33 of Set 9 | reforma\n",
      "Processing Record 34 of Set 9 | amderma\n",
      "City not found. Skipping...\n",
      "Processing Record 35 of Set 9 | acari\n",
      "Processing Record 36 of Set 9 | viligili\n",
      "City not found. Skipping...\n",
      "Processing Record 37 of Set 9 | le port\n",
      "Processing Record 38 of Set 9 | comodoro rivadavia\n",
      "Processing Record 39 of Set 9 | atar\n",
      "Processing Record 40 of Set 9 | los llanos de aridane\n",
      "Processing Record 41 of Set 9 | royan\n",
      "Processing Record 42 of Set 9 | eenhana\n",
      "Processing Record 43 of Set 9 | manokwari\n",
      "Processing Record 44 of Set 9 | lumeje\n",
      "Processing Record 45 of Set 9 | cabo san lucas\n",
      "Processing Record 46 of Set 9 | verkhnevilyuysk\n",
      "Processing Record 47 of Set 9 | luz\n",
      "Processing Record 48 of Set 9 | goderich\n",
      "Processing Record 49 of Set 9 | north platte\n",
      "Processing Record 50 of Set 9 | trelew\n",
      "Processing Record 1 of Set 10 | hervey bay\n",
      "Processing Record 2 of Set 10 | souillac\n",
      "Processing Record 3 of Set 10 | umm lajj\n",
      "Processing Record 4 of Set 10 | maksatikha\n",
      "Processing Record 5 of Set 10 | saint-leu\n",
      "Processing Record 6 of Set 10 | biak\n",
      "Processing Record 7 of Set 10 | porto novo\n",
      "Processing Record 8 of Set 10 | skalistyy\n",
      "City not found. Skipping...\n",
      "Processing Record 9 of Set 10 | banjar\n",
      "Processing Record 10 of Set 10 | kargasok\n",
      "Processing Record 11 of Set 10 | buzmeyin\n",
      "Processing Record 12 of Set 10 | egvekinot\n",
      "Processing Record 13 of Set 10 | vitez\n",
      "Processing Record 14 of Set 10 | sault sainte marie\n",
      "Processing Record 15 of Set 10 | uige\n",
      "Processing Record 16 of Set 10 | navirai\n",
      "Processing Record 17 of Set 10 | camacha\n",
      "Processing Record 18 of Set 10 | mildura\n",
      "Processing Record 19 of Set 10 | bollnas\n",
      "Processing Record 20 of Set 10 | mahibadhoo\n",
      "Processing Record 21 of Set 10 | derbent\n",
      "Processing Record 22 of Set 10 | asuncion\n",
      "Processing Record 23 of Set 10 | farkhor\n",
      "Processing Record 24 of Set 10 | yanan\n",
      "City not found. Skipping...\n",
      "Processing Record 25 of Set 10 | srednekolymsk\n",
      "Processing Record 26 of Set 10 | aguimes\n",
      "Processing Record 27 of Set 10 | amazar\n",
      "Processing Record 28 of Set 10 | tarudant\n",
      "City not found. Skipping...\n",
      "Processing Record 29 of Set 10 | northam\n",
      "Processing Record 30 of Set 10 | ouesso\n",
      "Processing Record 31 of Set 10 | syedove\n",
      "Processing Record 32 of Set 10 | kattivakkam\n",
      "Processing Record 33 of Set 10 | adrar\n",
      "Processing Record 34 of Set 10 | alta floresta\n",
      "Processing Record 35 of Set 10 | harper\n",
      "Processing Record 36 of Set 10 | ternate\n",
      "Processing Record 37 of Set 10 | pochutla\n",
      "Processing Record 38 of Set 10 | san onofre\n",
      "Processing Record 39 of Set 10 | ruatoria\n",
      "City not found. Skipping...\n",
      "Processing Record 40 of Set 10 | teya\n",
      "Processing Record 41 of Set 10 | jamsa\n",
      "Processing Record 42 of Set 10 | talas\n",
      "Processing Record 43 of Set 10 | santiago de chuco\n",
      "Processing Record 44 of Set 10 | salihorsk\n",
      "Processing Record 45 of Set 10 | dauriya\n",
      "Processing Record 46 of Set 10 | muisne\n",
      "Processing Record 47 of Set 10 | oktyabrskoye\n",
      "Processing Record 48 of Set 10 | grand baie\n",
      "Processing Record 49 of Set 10 | waterloo\n",
      "Processing Record 50 of Set 10 | galle\n",
      "Processing Record 1 of Set 11 | goksun\n",
      "Processing Record 2 of Set 11 | khorixas\n",
      "Processing Record 3 of Set 11 | zaraza\n",
      "Processing Record 4 of Set 11 | addis zemen\n",
      "City not found. Skipping...\n",
      "Processing Record 5 of Set 11 | codajas\n",
      "Processing Record 6 of Set 11 | tepic\n",
      "Processing Record 7 of Set 11 | kandi\n",
      "Processing Record 8 of Set 11 | nantucket\n",
      "Processing Record 9 of Set 11 | port hardy\n",
      "Processing Record 10 of Set 11 | san joaquin\n",
      "Processing Record 11 of Set 11 | tongsa\n",
      "City not found. Skipping...\n",
      "Processing Record 12 of Set 11 | kourou\n",
      "Processing Record 13 of Set 11 | marfino\n",
      "Processing Record 14 of Set 11 | sarangani\n",
      "Processing Record 15 of Set 11 | sai buri\n",
      "Processing Record 16 of Set 11 | napier\n",
      "Processing Record 17 of Set 11 | khani\n",
      "Processing Record 18 of Set 11 | kiunga\n",
      "Processing Record 19 of Set 11 | mergui\n",
      "City not found. Skipping...\n",
      "Processing Record 20 of Set 11 | luganville\n",
      "Processing Record 21 of Set 11 | marcona\n",
      "City not found. Skipping...\n",
      "Processing Record 22 of Set 11 | geraldton\n",
      "Processing Record 23 of Set 11 | mehran\n",
      "Processing Record 24 of Set 11 | tiznit\n",
      "Processing Record 25 of Set 11 | hami\n",
      "Processing Record 26 of Set 11 | annau\n",
      "Processing Record 27 of Set 11 | deputatskiy\n",
      "Processing Record 28 of Set 11 | yumen\n",
      "Processing Record 29 of Set 11 | sibolga\n",
      "Processing Record 30 of Set 11 | karaton\n",
      "Processing Record 31 of Set 11 | narasannapeta\n",
      "Processing Record 32 of Set 11 | ormara\n",
      "Processing Record 33 of Set 11 | tefe\n",
      "Processing Record 34 of Set 11 | razole\n",
      "Processing Record 35 of Set 11 | puerto quijarro\n",
      "Processing Record 36 of Set 11 | mareeba\n",
      "Processing Record 37 of Set 11 | barinas\n",
      "Processing Record 38 of Set 11 | formosa\n",
      "Processing Record 39 of Set 11 | ilhabela\n",
      "Processing Record 40 of Set 11 | sur\n",
      "Processing Record 41 of Set 11 | berdigestyakh\n",
      "Processing Record 42 of Set 11 | jiroft\n",
      "City not found. Skipping...\n",
      "Processing Record 43 of Set 11 | monatele\n",
      "City not found. Skipping...\n",
      "Processing Record 44 of Set 11 | kurmanayevka\n",
      "Processing Record 45 of Set 11 | sofiysk\n",
      "City not found. Skipping...\n",
      "Processing Record 46 of Set 11 | samusu\n",
      "City not found. Skipping...\n",
      "Processing Record 47 of Set 11 | ada\n",
      "Processing Record 48 of Set 11 | changde\n",
      "Processing Record 49 of Set 11 | yulara\n",
      "Processing Record 50 of Set 11 | bolungarvik\n",
      "City not found. Skipping...\n",
      "Processing Record 1 of Set 12 | vylgort\n",
      "City not found. Skipping...\n",
      "Processing Record 2 of Set 12 | tursunzoda\n",
      "Processing Record 3 of Set 12 | yantal\n",
      "Processing Record 4 of Set 12 | saint-augustin\n",
      "Processing Record 5 of Set 12 | buckeye\n",
      "Processing Record 6 of Set 12 | margate\n",
      "Processing Record 7 of Set 12 | coihueco\n",
      "Processing Record 8 of Set 12 | nieuwpoort\n",
      "Processing Record 9 of Set 12 | simao\n",
      "Processing Record 10 of Set 12 | muzhi\n"
     ]
    },
    {
     "name": "stdout",
     "output_type": "stream",
     "text": [
      "Processing Record 11 of Set 12 | oktyabrskiy\n",
      "Processing Record 12 of Set 12 | nathdwara\n",
      "Processing Record 13 of Set 12 | hamirpur\n",
      "Processing Record 14 of Set 12 | bloemfontein\n",
      "Processing Record 15 of Set 12 | jiaonan\n",
      "Processing Record 16 of Set 12 | udachnyy\n",
      "Processing Record 17 of Set 12 | bulungu\n",
      "Processing Record 18 of Set 12 | tsumeb\n",
      "Processing Record 19 of Set 12 | amga\n",
      "Processing Record 20 of Set 12 | korla\n",
      "Processing Record 21 of Set 12 | vilyuysk\n",
      "Processing Record 22 of Set 12 | esperantina\n",
      "Processing Record 23 of Set 12 | inverness\n",
      "Processing Record 24 of Set 12 | sayville\n",
      "Processing Record 25 of Set 12 | stolin\n",
      "Processing Record 26 of Set 12 | riyadh\n",
      "Processing Record 27 of Set 12 | tilichiki\n",
      "Processing Record 28 of Set 12 | coquimbo\n",
      "Processing Record 29 of Set 12 | burnie\n",
      "Processing Record 30 of Set 12 | huilong\n",
      "Processing Record 31 of Set 12 | khingansk\n",
      "Processing Record 32 of Set 12 | sakakah\n",
      "Processing Record 33 of Set 12 | quixada\n",
      "Processing Record 34 of Set 12 | domoni\n",
      "Processing Record 35 of Set 12 | jogindarnagar\n",
      "Processing Record 36 of Set 12 | touros\n",
      "Processing Record 37 of Set 12 | hailar\n",
      "Processing Record 38 of Set 12 | slidell\n",
      "Processing Record 39 of Set 12 | alvin\n",
      "Processing Record 40 of Set 12 | aflu\n",
      "City not found. Skipping...\n",
      "Processing Record 41 of Set 12 | cuenca\n",
      "Processing Record 42 of Set 12 | eureka\n",
      "Processing Record 43 of Set 12 | leningradskiy\n",
      "Processing Record 44 of Set 12 | togur\n",
      "Processing Record 45 of Set 12 | hamilton\n",
      "Processing Record 46 of Set 12 | storsteinnes\n",
      "Processing Record 47 of Set 12 | iwanai\n",
      "Processing Record 48 of Set 12 | paracuru\n",
      "Processing Record 49 of Set 12 | dunedin\n",
      "Processing Record 50 of Set 12 | kununurra\n",
      "Processing Record 1 of Set 13 | ialibu\n",
      "Processing Record 2 of Set 13 | purpe\n",
      "Processing Record 3 of Set 13 | taoudenni\n",
      "Processing Record 4 of Set 13 | gamboula\n",
      "Processing Record 5 of Set 13 | shemgang\n",
      "Processing Record 6 of Set 13 | buala\n",
      "Processing Record 7 of Set 13 | yarada\n",
      "Processing Record 8 of Set 13 | crab hill\n",
      "City not found. Skipping...\n",
      "Processing Record 9 of Set 13 | lashio\n",
      "Processing Record 10 of Set 13 | nichinan\n",
      "Processing Record 11 of Set 13 | port-gentil\n",
      "Processing Record 12 of Set 13 | karlstad\n",
      "Processing Record 13 of Set 13 | saskatoon\n",
      "Processing Record 14 of Set 13 | naze\n",
      "Processing Record 15 of Set 13 | beyneu\n",
      "Processing Record 16 of Set 13 | okakarara\n",
      "Processing Record 17 of Set 13 | wexford\n",
      "Processing Record 18 of Set 13 | mutsamudu\n",
      "City not found. Skipping...\n",
      "Processing Record 19 of Set 13 | zhigansk\n",
      "Processing Record 20 of Set 13 | maymanak\n",
      "City not found. Skipping...\n",
      "Processing Record 21 of Set 13 | bundaberg\n",
      "Processing Record 22 of Set 13 | goulburn\n",
      "Processing Record 23 of Set 13 | labuhan\n",
      "Processing Record 24 of Set 13 | oranjemund\n",
      "Processing Record 25 of Set 13 | tapaua\n",
      "City not found. Skipping...\n",
      "Processing Record 26 of Set 13 | lufilufi\n",
      "Processing Record 27 of Set 13 | chau doc\n",
      "Processing Record 28 of Set 13 | chara\n",
      "Processing Record 29 of Set 13 | cuamba\n",
      "Processing Record 30 of Set 13 | ulladulla\n",
      "Processing Record 31 of Set 13 | toamasina\n",
      "Processing Record 32 of Set 13 | san andres\n",
      "Processing Record 33 of Set 13 | nampula\n",
      "Processing Record 34 of Set 13 | gwadar\n",
      "Processing Record 35 of Set 13 | staroaleyskoye\n",
      "Processing Record 36 of Set 13 | tubruq\n",
      "City not found. Skipping...\n",
      "Processing Record 37 of Set 13 | demyansk\n",
      "Processing Record 38 of Set 13 | alekseyevka\n",
      "Processing Record 39 of Set 13 | prince rupert\n",
      "Processing Record 40 of Set 13 | jiwani\n",
      "Processing Record 41 of Set 13 | faya\n",
      "Processing Record 42 of Set 13 | kirakira\n",
      "Processing Record 43 of Set 13 | guangyuan\n",
      "Processing Record 44 of Set 13 | westpunt\n",
      "City not found. Skipping...\n",
      "Processing Record 45 of Set 13 | londonderry\n",
      "Processing Record 46 of Set 13 | geelong\n",
      "Processing Record 47 of Set 13 | kaabong\n",
      "Processing Record 48 of Set 13 | mitsamiouli\n",
      "Processing Record 49 of Set 13 | barao de melgaco\n",
      "-----------------------------\n",
      "Data Retrieval Complete      \n",
      "-----------------------------\n"
     ]
    }
   ],
   "source": [
    "# list\n",
    "city_list = []\n",
    "lat = []\n",
    "lng = []\n",
    "max_temp = []\n",
    "humidity = []\n",
    "cloudiness = []\n",
    "wind_speed = []\n",
    "country = []\n",
    "date = []\n",
    "\n",
    "print(\"Beginning Data Retrieval\")\n",
    "print(\"-----------------------------\")\n",
    "\n",
    "count = 0\n",
    "set_s = 1\n",
    "\n",
    "#loop through the lsit of cities\n",
    "for city in cities:\n",
    "\n",
    "\n",
    "#put in set of 50  \n",
    "    count += 1\n",
    "    \n",
    "    if count == 51:\n",
    "        count = 1 \n",
    "        set_s += 1\n",
    "        \n",
    "        \n",
    "           \n",
    "        \n",
    "    print(f\"Processing Record {count} of Set {set_s} | {city}\") \n",
    "\n",
    "# get data  \n",
    "    try:\n",
    "        response = requests.get(query_url + city).json()\n",
    "        city_list.append(response[\"name\"])\n",
    "        lat.append(response[\"coord\"][\"lat\"])\n",
    "        lng.append(response[\"coord\"][\"lon\"])\n",
    "        max_temp.append(response[\"main\"][\"temp_max\"])\n",
    "        humidity.append(response[\"main\"][\"humidity\"])\n",
    "        cloudiness.append(response[\"clouds\"][\"all\"])\n",
    "        wind_speed.append(response[\"wind\"][\"speed\"])\n",
    "        country.append(response[\"sys\"][\"country\"])\n",
    "        date.append(response[\"dt\"])\n",
    "        \n",
    "\n",
    "# append null values\n",
    "    except KeyError:\n",
    "        print(\"City not found. Skipping...\")\n",
    "        pass\n",
    "        \n",
    "        \n",
    "print(\"-----------------------------\")\n",
    "print(\"Data Retrieval Complete      \")\n",
    "print(\"-----------------------------\")    "
   ]
  },
  {
   "cell_type": "markdown",
   "metadata": {},
   "source": [
    "### Convert Raw Data to DataFrame\n",
    "* Export the city data into a .csv.\n",
    "* Display the DataFrame"
   ]
  },
  {
   "cell_type": "code",
   "execution_count": 5,
   "metadata": {},
   "outputs": [
    {
     "data": {
      "text/html": [
       "<div>\n",
       "<style scoped>\n",
       "    .dataframe tbody tr th:only-of-type {\n",
       "        vertical-align: middle;\n",
       "    }\n",
       "\n",
       "    .dataframe tbody tr th {\n",
       "        vertical-align: top;\n",
       "    }\n",
       "\n",
       "    .dataframe thead th {\n",
       "        text-align: right;\n",
       "    }\n",
       "</style>\n",
       "<table border=\"1\" class=\"dataframe\">\n",
       "  <thead>\n",
       "    <tr style=\"text-align: right;\">\n",
       "      <th></th>\n",
       "      <th>City</th>\n",
       "      <th>Lat</th>\n",
       "      <th>Lng</th>\n",
       "      <th>Max Temp</th>\n",
       "      <th>Humidity</th>\n",
       "      <th>Cloudiness</th>\n",
       "      <th>Wind Speed</th>\n",
       "      <th>Country</th>\n",
       "      <th>Date</th>\n",
       "    </tr>\n",
       "  </thead>\n",
       "  <tbody>\n",
       "    <tr>\n",
       "      <th>0</th>\n",
       "      <td>Carnarvon</td>\n",
       "      <td>-24.8667</td>\n",
       "      <td>113.6333</td>\n",
       "      <td>72.36</td>\n",
       "      <td>48</td>\n",
       "      <td>0</td>\n",
       "      <td>19.69</td>\n",
       "      <td>AU</td>\n",
       "      <td>1666752973</td>\n",
       "    </tr>\n",
       "    <tr>\n",
       "      <th>1</th>\n",
       "      <td>Tuktoyaktuk</td>\n",
       "      <td>69.4541</td>\n",
       "      <td>-133.0374</td>\n",
       "      <td>12.20</td>\n",
       "      <td>92</td>\n",
       "      <td>75</td>\n",
       "      <td>13.80</td>\n",
       "      <td>CA</td>\n",
       "      <td>1666752973</td>\n",
       "    </tr>\n",
       "    <tr>\n",
       "      <th>2</th>\n",
       "      <td>Bilma</td>\n",
       "      <td>18.6853</td>\n",
       "      <td>12.9164</td>\n",
       "      <td>68.14</td>\n",
       "      <td>16</td>\n",
       "      <td>0</td>\n",
       "      <td>6.24</td>\n",
       "      <td>NE</td>\n",
       "      <td>1666752974</td>\n",
       "    </tr>\n",
       "    <tr>\n",
       "      <th>3</th>\n",
       "      <td>Hobart</td>\n",
       "      <td>-42.8794</td>\n",
       "      <td>147.3294</td>\n",
       "      <td>59.27</td>\n",
       "      <td>98</td>\n",
       "      <td>75</td>\n",
       "      <td>14.97</td>\n",
       "      <td>AU</td>\n",
       "      <td>1666752975</td>\n",
       "    </tr>\n",
       "    <tr>\n",
       "      <th>4</th>\n",
       "      <td>Jalpan</td>\n",
       "      <td>21.2333</td>\n",
       "      <td>-99.4833</td>\n",
       "      <td>66.00</td>\n",
       "      <td>66</td>\n",
       "      <td>91</td>\n",
       "      <td>2.35</td>\n",
       "      <td>MX</td>\n",
       "      <td>1666752975</td>\n",
       "    </tr>\n",
       "  </tbody>\n",
       "</table>\n",
       "</div>"
      ],
      "text/plain": [
       "          City      Lat       Lng  Max Temp  Humidity  Cloudiness  Wind Speed  \\\n",
       "0    Carnarvon -24.8667  113.6333     72.36        48           0       19.69   \n",
       "1  Tuktoyaktuk  69.4541 -133.0374     12.20        92          75       13.80   \n",
       "2        Bilma  18.6853   12.9164     68.14        16           0        6.24   \n",
       "3       Hobart -42.8794  147.3294     59.27        98          75       14.97   \n",
       "4       Jalpan  21.2333  -99.4833     66.00        66          91        2.35   \n",
       "\n",
       "  Country        Date  \n",
       "0      AU  1666752973  \n",
       "1      CA  1666752973  \n",
       "2      NE  1666752974  \n",
       "3      AU  1666752975  \n",
       "4      MX  1666752975  "
      ]
     },
     "execution_count": 5,
     "metadata": {},
     "output_type": "execute_result"
    }
   ],
   "source": [
    "weather_dict = pd.DataFrame ({\n",
    "                            \"City\": city_list,\n",
    "                            \"Lat\": lat,\n",
    "                            \"Lng\": lng,\n",
    "                            \"Max Temp\": max_temp,\n",
    "                            \"Humidity\": humidity,\n",
    "                            \"Cloudiness\": cloudiness,\n",
    "                            \"Wind Speed\": wind_speed,\n",
    "                            \"Country\": country,\n",
    "                            \"Date\": date\n",
    "})\n",
    "\n",
    "weather_dict.head()"
   ]
  },
  {
   "cell_type": "code",
   "execution_count": 6,
   "metadata": {},
   "outputs": [],
   "source": [
    "weather_dict.to_csv(\"output_data/weather_dict.csv\", index=False)\n"
   ]
  },
  {
   "cell_type": "code",
   "execution_count": 7,
   "metadata": {},
   "outputs": [
    {
     "data": {
      "text/html": [
       "<div>\n",
       "<style scoped>\n",
       "    .dataframe tbody tr th:only-of-type {\n",
       "        vertical-align: middle;\n",
       "    }\n",
       "\n",
       "    .dataframe tbody tr th {\n",
       "        vertical-align: top;\n",
       "    }\n",
       "\n",
       "    .dataframe thead th {\n",
       "        text-align: right;\n",
       "    }\n",
       "</style>\n",
       "<table border=\"1\" class=\"dataframe\">\n",
       "  <thead>\n",
       "    <tr style=\"text-align: right;\">\n",
       "      <th></th>\n",
       "      <th>Lat</th>\n",
       "      <th>Lng</th>\n",
       "      <th>Max Temp</th>\n",
       "      <th>Humidity</th>\n",
       "      <th>Cloudiness</th>\n",
       "      <th>Wind Speed</th>\n",
       "      <th>Date</th>\n",
       "    </tr>\n",
       "  </thead>\n",
       "  <tbody>\n",
       "    <tr>\n",
       "      <th>count</th>\n",
       "      <td>589.000000</td>\n",
       "      <td>589.000000</td>\n",
       "      <td>589.000000</td>\n",
       "      <td>589.000000</td>\n",
       "      <td>589.000000</td>\n",
       "      <td>589.000000</td>\n",
       "      <td>5.890000e+02</td>\n",
       "    </tr>\n",
       "    <tr>\n",
       "      <th>mean</th>\n",
       "      <td>18.630976</td>\n",
       "      <td>18.264065</td>\n",
       "      <td>59.710798</td>\n",
       "      <td>73.932088</td>\n",
       "      <td>60.125637</td>\n",
       "      <td>7.284329</td>\n",
       "      <td>1.666753e+09</td>\n",
       "    </tr>\n",
       "    <tr>\n",
       "      <th>std</th>\n",
       "      <td>33.454674</td>\n",
       "      <td>91.518126</td>\n",
       "      <td>19.947691</td>\n",
       "      <td>20.002265</td>\n",
       "      <td>40.257815</td>\n",
       "      <td>5.126516</td>\n",
       "      <td>1.010582e+02</td>\n",
       "    </tr>\n",
       "    <tr>\n",
       "      <th>min</th>\n",
       "      <td>-54.800000</td>\n",
       "      <td>-179.166700</td>\n",
       "      <td>-6.300000</td>\n",
       "      <td>12.000000</td>\n",
       "      <td>0.000000</td>\n",
       "      <td>0.000000</td>\n",
       "      <td>1.666753e+09</td>\n",
       "    </tr>\n",
       "    <tr>\n",
       "      <th>25%</th>\n",
       "      <td>-10.068100</td>\n",
       "      <td>-66.382100</td>\n",
       "      <td>48.650000</td>\n",
       "      <td>64.000000</td>\n",
       "      <td>18.000000</td>\n",
       "      <td>3.440000</td>\n",
       "      <td>1.666753e+09</td>\n",
       "    </tr>\n",
       "    <tr>\n",
       "      <th>50%</th>\n",
       "      <td>22.566700</td>\n",
       "      <td>23.266700</td>\n",
       "      <td>63.210000</td>\n",
       "      <td>78.000000</td>\n",
       "      <td>75.000000</td>\n",
       "      <td>6.240000</td>\n",
       "      <td>1.666753e+09</td>\n",
       "    </tr>\n",
       "    <tr>\n",
       "      <th>75%</th>\n",
       "      <td>47.076800</td>\n",
       "      <td>98.200000</td>\n",
       "      <td>75.580000</td>\n",
       "      <td>89.000000</td>\n",
       "      <td>100.000000</td>\n",
       "      <td>10.000000</td>\n",
       "      <td>1.666753e+09</td>\n",
       "    </tr>\n",
       "    <tr>\n",
       "      <th>max</th>\n",
       "      <td>78.218600</td>\n",
       "      <td>178.416700</td>\n",
       "      <td>103.980000</td>\n",
       "      <td>100.000000</td>\n",
       "      <td>100.000000</td>\n",
       "      <td>29.910000</td>\n",
       "      <td>1.666753e+09</td>\n",
       "    </tr>\n",
       "  </tbody>\n",
       "</table>\n",
       "</div>"
      ],
      "text/plain": [
       "              Lat         Lng    Max Temp    Humidity  Cloudiness  Wind Speed  \\\n",
       "count  589.000000  589.000000  589.000000  589.000000  589.000000  589.000000   \n",
       "mean    18.630976   18.264065   59.710798   73.932088   60.125637    7.284329   \n",
       "std     33.454674   91.518126   19.947691   20.002265   40.257815    5.126516   \n",
       "min    -54.800000 -179.166700   -6.300000   12.000000    0.000000    0.000000   \n",
       "25%    -10.068100  -66.382100   48.650000   64.000000   18.000000    3.440000   \n",
       "50%     22.566700   23.266700   63.210000   78.000000   75.000000    6.240000   \n",
       "75%     47.076800   98.200000   75.580000   89.000000  100.000000   10.000000   \n",
       "max     78.218600  178.416700  103.980000  100.000000  100.000000   29.910000   \n",
       "\n",
       "               Date  \n",
       "count  5.890000e+02  \n",
       "mean   1.666753e+09  \n",
       "std    1.010582e+02  \n",
       "min    1.666753e+09  \n",
       "25%    1.666753e+09  \n",
       "50%    1.666753e+09  \n",
       "75%    1.666753e+09  \n",
       "max    1.666753e+09  "
      ]
     },
     "execution_count": 7,
     "metadata": {},
     "output_type": "execute_result"
    }
   ],
   "source": [
    "weather_dict.describe()"
   ]
  },
  {
   "cell_type": "markdown",
   "metadata": {},
   "source": [
    "## Inspect the data and remove the cities where the humidity > 100%.\n",
    "----\n",
    "Skip this step if there are no cities that have humidity > 100%. "
   ]
  },
  {
   "cell_type": "code",
   "execution_count": 8,
   "metadata": {},
   "outputs": [
    {
     "data": {
      "text/plain": [
       "City          10\n",
       "Lat           10\n",
       "Lng           10\n",
       "Max Temp      10\n",
       "Humidity      10\n",
       "Cloudiness    10\n",
       "Wind Speed    10\n",
       "Country       10\n",
       "Date          10\n",
       "dtype: int64"
      ]
     },
     "execution_count": 8,
     "metadata": {},
     "output_type": "execute_result"
    }
   ],
   "source": [
    "#cities over 100 humidity\n",
    "humidity_over = weather_dict.loc[weather_dict[\"Humidity\"] >= 100].count()\n",
    "humidity_over"
   ]
  },
  {
   "cell_type": "code",
   "execution_count": 9,
   "metadata": {},
   "outputs": [
    {
     "data": {
      "text/html": [
       "<div>\n",
       "<style scoped>\n",
       "    .dataframe tbody tr th:only-of-type {\n",
       "        vertical-align: middle;\n",
       "    }\n",
       "\n",
       "    .dataframe tbody tr th {\n",
       "        vertical-align: top;\n",
       "    }\n",
       "\n",
       "    .dataframe thead th {\n",
       "        text-align: right;\n",
       "    }\n",
       "</style>\n",
       "<table border=\"1\" class=\"dataframe\">\n",
       "  <thead>\n",
       "    <tr style=\"text-align: right;\">\n",
       "      <th></th>\n",
       "      <th>City</th>\n",
       "      <th>Lat</th>\n",
       "      <th>Lng</th>\n",
       "      <th>Max Temp</th>\n",
       "      <th>Humidity</th>\n",
       "      <th>Cloudiness</th>\n",
       "      <th>Wind Speed</th>\n",
       "      <th>Country</th>\n",
       "      <th>Date</th>\n",
       "    </tr>\n",
       "  </thead>\n",
       "  <tbody>\n",
       "    <tr>\n",
       "      <th>0</th>\n",
       "      <td>Carnarvon</td>\n",
       "      <td>-24.8667</td>\n",
       "      <td>113.6333</td>\n",
       "      <td>72.36</td>\n",
       "      <td>48</td>\n",
       "      <td>0</td>\n",
       "      <td>19.69</td>\n",
       "      <td>AU</td>\n",
       "      <td>1666752973</td>\n",
       "    </tr>\n",
       "    <tr>\n",
       "      <th>1</th>\n",
       "      <td>Tuktoyaktuk</td>\n",
       "      <td>69.4541</td>\n",
       "      <td>-133.0374</td>\n",
       "      <td>12.20</td>\n",
       "      <td>92</td>\n",
       "      <td>75</td>\n",
       "      <td>13.80</td>\n",
       "      <td>CA</td>\n",
       "      <td>1666752973</td>\n",
       "    </tr>\n",
       "    <tr>\n",
       "      <th>2</th>\n",
       "      <td>Bilma</td>\n",
       "      <td>18.6853</td>\n",
       "      <td>12.9164</td>\n",
       "      <td>68.14</td>\n",
       "      <td>16</td>\n",
       "      <td>0</td>\n",
       "      <td>6.24</td>\n",
       "      <td>NE</td>\n",
       "      <td>1666752974</td>\n",
       "    </tr>\n",
       "    <tr>\n",
       "      <th>3</th>\n",
       "      <td>Hobart</td>\n",
       "      <td>-42.8794</td>\n",
       "      <td>147.3294</td>\n",
       "      <td>59.27</td>\n",
       "      <td>98</td>\n",
       "      <td>75</td>\n",
       "      <td>14.97</td>\n",
       "      <td>AU</td>\n",
       "      <td>1666752975</td>\n",
       "    </tr>\n",
       "    <tr>\n",
       "      <th>4</th>\n",
       "      <td>Jalpan</td>\n",
       "      <td>21.2333</td>\n",
       "      <td>-99.4833</td>\n",
       "      <td>66.00</td>\n",
       "      <td>66</td>\n",
       "      <td>91</td>\n",
       "      <td>2.35</td>\n",
       "      <td>MX</td>\n",
       "      <td>1666752975</td>\n",
       "    </tr>\n",
       "  </tbody>\n",
       "</table>\n",
       "</div>"
      ],
      "text/plain": [
       "          City      Lat       Lng  Max Temp  Humidity  Cloudiness  Wind Speed  \\\n",
       "0    Carnarvon -24.8667  113.6333     72.36        48           0       19.69   \n",
       "1  Tuktoyaktuk  69.4541 -133.0374     12.20        92          75       13.80   \n",
       "2        Bilma  18.6853   12.9164     68.14        16           0        6.24   \n",
       "3       Hobart -42.8794  147.3294     59.27        98          75       14.97   \n",
       "4       Jalpan  21.2333  -99.4833     66.00        66          91        2.35   \n",
       "\n",
       "  Country        Date  \n",
       "0      AU  1666752973  \n",
       "1      CA  1666752973  \n",
       "2      NE  1666752974  \n",
       "3      AU  1666752975  \n",
       "4      MX  1666752975  "
      ]
     },
     "execution_count": 9,
     "metadata": {},
     "output_type": "execute_result"
    }
   ],
   "source": [
    "# Make a new DataFrame equal to the city data to drop all humidity outliers by index.\n",
    "# Passing \"inplace=False\" will make a copy of the city_data DataFrame, which we call \"clean_city_data\".\n",
    "clean_city_data = weather_dict.drop(humidity_over, inplace=False)\n",
    "clean_city_data.head()"
   ]
  },
  {
   "cell_type": "code",
   "execution_count": 10,
   "metadata": {},
   "outputs": [],
   "source": [
    "clean_city_data.to_csv(\"output_data/clean.csv\", index=False)"
   ]
  },
  {
   "cell_type": "markdown",
   "metadata": {},
   "source": [
    "## Plotting the Data\n",
    "* Use proper labeling of the plots using plot titles (including date of analysis) and axes labels.\n",
    "* Save the plotted figures as .pngs."
   ]
  },
  {
   "cell_type": "markdown",
   "metadata": {},
   "source": [
    "## Latitude vs. Temperature Plot"
   ]
  },
  {
   "cell_type": "code",
   "execution_count": 11,
   "metadata": {
    "scrolled": true
   },
   "outputs": [
    {
     "data": {
      "image/png": "[encoded data removed]",
      "text/plain": [
       "<Figure size 432x288 with 1 Axes>"
      ]
     },
     "metadata": {
      "needs_background": "light"
     },
     "output_type": "display_data"
    }
   ],
   "source": [
    "x_values = clean_city_data[\"Lat\"]\n",
    "y_values = clean_city_data[\"Max Temp\"]\n",
    "\n",
    "plt.scatter(x_values,y_values)\n",
    "\n",
    "plt.title(\"City Latitute vs. Max Temeprature 10/25/2022\")\n",
    "plt.xlabel('Latitude')\n",
    "plt.ylabel('Max Temperature (F)')\n",
    "plt.grid()\n",
    "plt.savefig(\"output_data/latvstemp.png\")\n",
    "plt.show()"
   ]
  },
  {
   "cell_type": "markdown",
   "metadata": {},
   "source": [
    "#### We can tell by this graph that there are not sever outliers showing. The temperature peaks near the equator and dips in the northern hemisphere and stays warmer in the souther hemisphere at this time of year,"
   ]
  },
  {
   "cell_type": "markdown",
   "metadata": {},
   "source": [
    "## Latitude vs. Humidity Plot"
   ]
  },
  {
   "cell_type": "code",
   "execution_count": 12,
   "metadata": {},
   "outputs": [
    {
     "data": {
      "image/png": "[encoded data removed]",
      "text/plain": [
       "<Figure size 432x288 with 1 Axes>"
      ]
     },
     "metadata": {
      "needs_background": "light"
     },
     "output_type": "display_data"
    }
   ],
   "source": [
    "x_values = clean_city_data[\"Lat\"]\n",
    "y_values = clean_city_data[\"Humidity\"]\n",
    "\n",
    "plt.scatter(x_values,y_values)\n",
    "\n",
    "plt.title(\"City Latitute vs. Max Humidity 10/25/2022\")\n",
    "plt.xlabel('Latitude')\n",
    "plt.ylabel('Humidity(%)')\n",
    "plt.grid()\n",
    "plt.savefig(\"output_data/latvshumidity.png\")\n",
    "plt.show()"
   ]
  },
  {
   "cell_type": "markdown",
   "metadata": {},
   "source": [
    "#### We can see that the vast majority of citities is showing  humidity  above 60 no matter the latitude."
   ]
  },
  {
   "cell_type": "markdown",
   "metadata": {},
   "source": [
    "## Latitude vs. Cloudiness Plot"
   ]
  },
  {
   "cell_type": "code",
   "execution_count": 13,
   "metadata": {},
   "outputs": [
    {
     "data": {
      "image/png": "[encoded data removed]",
      "text/plain": [
       "<Figure size 432x288 with 1 Axes>"
      ]
     },
     "metadata": {
      "needs_background": "light"
     },
     "output_type": "display_data"
    }
   ],
   "source": [
    "x_values = clean_city_data[\"Lat\"]\n",
    "y_values = clean_city_data[\"Cloudiness\"]\n",
    "\n",
    "plt.scatter(x_values,y_values)\n",
    "\n",
    "plt.title(\"City Latitute vs. Cloudiness (%) 10/25/2022\")\n",
    "plt.xlabel('Latitude')\n",
    "plt.ylabel('Cloudiness (%)')\n",
    "plt.grid()\n",
    "plt.savefig(\"output_data/latvscloudiness.png\")\n",
    "plt.show()"
   ]
  },
  {
   "cell_type": "markdown",
   "metadata": {},
   "source": [
    "#### Cloudiness tends to stand out at either 0% or 100% in a lot of cities and does not relate to the latitude."
   ]
  },
  {
   "cell_type": "markdown",
   "metadata": {},
   "source": [
    "## Latitude vs. Wind Speed Plot"
   ]
  },
  {
   "cell_type": "code",
   "execution_count": 14,
   "metadata": {},
   "outputs": [
    {
     "data": {
      "image/png": "[encoded data removed]",
      "text/plain": [
       "<Figure size 432x288 with 1 Axes>"
      ]
     },
     "metadata": {
      "needs_background": "light"
     },
     "output_type": "display_data"
    }
   ],
   "source": [
    "x_values = clean_city_data[\"Lat\"]\n",
    "y_values = clean_city_data[\"Wind Speed\"]\n",
    "\n",
    "plt.scatter(x_values,y_values)\n",
    "\n",
    "plt.title(\"City Latitute vs. Wind Speed 10/25/2022\")\n",
    "plt.xlabel('Latitude')\n",
    "plt.ylabel('Wind Speed(mph)')\n",
    "plt.grid()\n",
    "plt.savefig(\"output_data/latvswindspeed.png\")\n",
    "plt.show()"
   ]
  },
  {
   "cell_type": "markdown",
   "metadata": {},
   "source": [
    "#### Wind speed in all regions of the world tend to stay at a lower speed. This would only spike if there was a cause for it to. When this data was taken it looks calm for the most part."
   ]
  },
  {
   "cell_type": "markdown",
   "metadata": {},
   "source": [
    "## Linear Regression"
   ]
  },
  {
   "cell_type": "code",
   "execution_count": 15,
   "metadata": {},
   "outputs": [],
   "source": [
    "north_hemisphere = clean_city_data.loc[clean_city_data[\"Lat\"] > 0]\n",
    "\n",
    "south_hemisphere = clean_city_data.loc[clean_city_data[\"Lat\"] <= 0]"
   ]
  },
  {
   "cell_type": "markdown",
   "metadata": {},
   "source": [
    "####  Northern Hemisphere - Max Temp vs. Latitude Linear Regression"
   ]
  },
  {
   "cell_type": "code",
   "execution_count": 16,
   "metadata": {},
   "outputs": [
    {
     "data": {
      "image/png": "[encoded data removed]",
      "text/plain": [
       "<Figure size 432x288 with 1 Axes>"
      ]
     },
     "metadata": {
      "needs_background": "light"
     },
     "output_type": "display_data"
    },
    {
     "name": "stdout",
     "output_type": "stream",
     "text": [
      "The r-value is: -0.882399748729072\n"
     ]
    }
   ],
   "source": [
    "x_values = north_hemisphere['Lat']\n",
    "y_values = north_hemisphere['Max Temp']\n",
    "(slope, intercept, rvalue, pvalue, stderr) = linregress(x_values, y_values)\n",
    "regress_values = x_values * slope + intercept\n",
    "line_eq = \"y = \" + str(round(slope,2)) + \"x + \" + str(round(intercept,2))\n",
    "plt.scatter(x_values,y_values)\n",
    "plt.plot(x_values,regress_values,\"r-\")\n",
    "plt.annotate(line_eq,(5.8,0.8),fontsize=15,color=\"red\")\n",
    "plt.xlabel('Latitude')\n",
    "plt.ylabel('Max Temperature(F)')\n",
    "plt.savefig(\"output_data/latvsmaxtemp_N2.png\")\n",
    "plt.show()\n",
    "print(f\"The r-value is: {rvalue}\")"
   ]
  },
  {
   "cell_type": "markdown",
   "metadata": {},
   "source": [
    "#### Here we are modeling the Max Temp to the Latitude. We can tell that it gets colder in the cities the further we are away from the equator."
   ]
  },
  {
   "cell_type": "markdown",
   "metadata": {},
   "source": [
    "####  Southern Hemisphere - Max Temp vs. Latitude Linear Regression"
   ]
  },
  {
   "cell_type": "code",
   "execution_count": 17,
   "metadata": {},
   "outputs": [
    {
     "data": {
      "image/png": "[encoded data removed]",
      "text/plain": [
       "<Figure size 432x288 with 1 Axes>"
      ]
     },
     "metadata": {
      "needs_background": "light"
     },
     "output_type": "display_data"
    },
    {
     "name": "stdout",
     "output_type": "stream",
     "text": [
      "The r-value is: 0.5685635332252079\n"
     ]
    }
   ],
   "source": [
    "x_values = south_hemisphere['Lat']\n",
    "y_values = south_hemisphere['Max Temp']\n",
    "(slope, intercept, rvalue, pvalue, stderr) = linregress(x_values, y_values)\n",
    "regress_values = x_values * slope + intercept\n",
    "line_eq = \"y = \" + str(round(slope,2)) + \"x + \" + str(round(intercept,2))\n",
    "plt.scatter(x_values,y_values)\n",
    "plt.plot(x_values,regress_values,\"r-\")\n",
    "plt.annotate(line_eq,(5.8,0.8),fontsize=15,color=\"red\")\n",
    "plt.xlabel('Latitude')\n",
    "plt.ylabel('Max Temperature(F)')\n",
    "plt.savefig(\"output_data/latvsmaxtemp_S2.png\")\n",
    "plt.show()\n",
    "print(f\"The r-value is: {rvalue}\")"
   ]
  },
  {
   "cell_type": "markdown",
   "metadata": {},
   "source": [
    "#### Here we are modeling the Max Temp to the Latitude just like above. We can tell that it gets warmer in the cities that are becoming closer to the equator. As we can tell though, these data points are a little spread out more than above. This might be due to the random cities that were pulled and the geographic location. We can also tell that there are less cities in the southern hemisphere."
   ]
  },
  {
   "cell_type": "markdown",
   "metadata": {},
   "source": [
    "####  Northern Hemisphere - Humidity (%) vs. Latitude Linear Regression"
   ]
  },
  {
   "cell_type": "code",
   "execution_count": 18,
   "metadata": {},
   "outputs": [
    {
     "data": {
      "image/png": "[encoded data removed]",
      "text/plain": [
       "<Figure size 432x288 with 1 Axes>"
      ]
     },
     "metadata": {
      "needs_background": "light"
     },
     "output_type": "display_data"
    },
    {
     "name": "stdout",
     "output_type": "stream",
     "text": [
      "The r-value is: 0.18222896806861982\n"
     ]
    }
   ],
   "source": [
    "x_values = north_hemisphere['Lat']\n",
    "y_values = north_hemisphere['Humidity']\n",
    "(slope, intercept, rvalue, pvalue, stderr) = linregress(x_values, y_values)\n",
    "regress_values = x_values * slope + intercept\n",
    "line_eq = \"y = \" + str(round(slope,2)) + \"x + \" + str(round(intercept,2))\n",
    "plt.scatter(x_values,y_values)\n",
    "plt.plot(x_values,regress_values,\"r-\")\n",
    "plt.annotate(line_eq,(5.8,0.8),fontsize=15,color=\"red\")\n",
    "plt.xlabel('Latitude')\n",
    "plt.ylabel('HUmidity(%)')\n",
    "plt.savefig(\"output_data/latvshumidity_N2.png\")\n",
    "plt.show()\n",
    "print(f\"The r-value is: {rvalue}\")"
   ]
  },
  {
   "cell_type": "markdown",
   "metadata": {},
   "source": [
    "#### Here we can tell that the Humidity is highlighted the most between 60-100 but there is no real corelation between humidity % and latitude."
   ]
  },
  {
   "cell_type": "markdown",
   "metadata": {},
   "source": [
    "####  Southern Hemisphere - Humidity (%) vs. Latitude Linear Regression"
   ]
  },
  {
   "cell_type": "code",
   "execution_count": 19,
   "metadata": {},
   "outputs": [
    {
     "data": {
      "image/png": "[encoded data removed]",
      "text/plain": [
       "<Figure size 432x288 with 1 Axes>"
      ]
     },
     "metadata": {
      "needs_background": "light"
     },
     "output_type": "display_data"
    },
    {
     "name": "stdout",
     "output_type": "stream",
     "text": [
      "The r-value is: 0.0910090169439801\n"
     ]
    }
   ],
   "source": [
    "x_values = south_hemisphere['Lat']\n",
    "y_values = south_hemisphere['Humidity']\n",
    "(slope, intercept, rvalue, pvalue, stderr) = linregress(x_values, y_values)\n",
    "regress_values = x_values * slope + intercept\n",
    "line_eq = \"y = \" + str(round(slope,2)) + \"x + \" + str(round(intercept,2))\n",
    "plt.scatter(x_values,y_values)\n",
    "plt.plot(x_values,regress_values,\"r-\")\n",
    "plt.annotate(line_eq,(5.8,0.8),fontsize=15,color=\"red\")\n",
    "plt.xlabel('Latitude')\n",
    "plt.ylabel('Humidity(%)')\n",
    "plt.savefig(\"output_data/latvshumidity_S2.png\")\n",
    "plt.show()\n",
    "print(f\"The r-value is: {rvalue}\")"
   ]
  },
  {
   "cell_type": "markdown",
   "metadata": {},
   "source": [
    "#### Just like above we can tell that latitude did not play a major role in the humidity of the air in these cities. It does tend to look more spread out between -20 and -30 degrees."
   ]
  },
  {
   "cell_type": "markdown",
   "metadata": {},
   "source": [
    "####  Northern Hemisphere - Cloudiness (%) vs. Latitude Linear Regression"
   ]
  },
  {
   "cell_type": "code",
   "execution_count": 20,
   "metadata": {},
   "outputs": [
    {
     "data": {
      "image/png": "[encoded data removed]",
      "text/plain": [
       "<Figure size 432x288 with 1 Axes>"
      ]
     },
     "metadata": {
      "needs_background": "light"
     },
     "output_type": "display_data"
    },
    {
     "name": "stdout",
     "output_type": "stream",
     "text": [
      "The r-value is: 0.17514154727507278\n"
     ]
    }
   ],
   "source": [
    "x_values = north_hemisphere['Lat']\n",
    "y_values = north_hemisphere['Cloudiness']\n",
    "(slope, intercept, rvalue, pvalue, stderr) = linregress(x_values, y_values)\n",
    "regress_values = x_values * slope + intercept\n",
    "line_eq = \"y = \" + str(round(slope,2)) + \"x + \" + str(round(intercept,2))\n",
    "plt.scatter(x_values,y_values)\n",
    "plt.plot(x_values,regress_values,\"r-\")\n",
    "plt.annotate(line_eq,(5.8,0.8),fontsize=15,color=\"red\")\n",
    "plt.xlabel('Latitude')\n",
    "plt.ylabel('Cloudiness(%)')\n",
    "plt.savefig(\"output_data/latvscloudiness_N2.png\")\n",
    "plt.show()\n",
    "print(f\"The r-value is: {rvalue}\")"
   ]
  },
  {
   "cell_type": "markdown",
   "metadata": {},
   "source": [
    "#### latitude has more of an effect between 20-50 degrees for 0 clouds and ranges from 0-80 degrees for for 100% cloudiness. But just like in our analysis it could be due to scaling. It is still quite random. "
   ]
  },
  {
   "cell_type": "markdown",
   "metadata": {},
   "source": [
    "####  Southern Hemisphere - Cloudiness (%) vs. Latitude Linear Regression"
   ]
  },
  {
   "cell_type": "code",
   "execution_count": 21,
   "metadata": {},
   "outputs": [
    {
     "data": {
      "image/png": "[encoded data removed]",
      "text/plain": [
       "<Figure size 432x288 with 1 Axes>"
      ]
     },
     "metadata": {
      "needs_background": "light"
     },
     "output_type": "display_data"
    },
    {
     "name": "stdout",
     "output_type": "stream",
     "text": [
      "The r-value is: 0.05515884852213007\n"
     ]
    }
   ],
   "source": [
    "x_values = south_hemisphere['Lat']\n",
    "y_values = south_hemisphere['Cloudiness']\n",
    "(slope, intercept, rvalue, pvalue, stderr) = linregress(x_values, y_values)\n",
    "regress_values = x_values * slope + intercept\n",
    "line_eq = \"y = \" + str(round(slope,2)) + \"x + \" + str(round(intercept,2))\n",
    "plt.scatter(x_values,y_values)\n",
    "plt.plot(x_values,regress_values,\"r-\")\n",
    "plt.annotate(line_eq,(5.8,0.8),fontsize=15,color=\"red\")\n",
    "plt.xlabel('Latitude')\n",
    "plt.ylabel('Cloudiness(%)')\n",
    "plt.savefig(\"output_data/latvscloudiness_S2.png\")\n",
    "plt.show()\n",
    "print(f\"The r-value is: {rvalue}\")"
   ]
  },
  {
   "cell_type": "markdown",
   "metadata": {},
   "source": [
    "#### we can tell that just like in our analysis there is no real corelation from clouds to latitude. it is pretty spread out other than a rise at -20-30 at 0 clouds and a jump at -40 for 100% clouds and 0 to -10 at 100% clouds."
   ]
  },
  {
   "cell_type": "markdown",
   "metadata": {},
   "source": [
    "####  Northern Hemisphere - Wind Speed (mph) vs. Latitude Linear Regression"
   ]
  },
  {
   "cell_type": "code",
   "execution_count": 22,
   "metadata": {},
   "outputs": [
    {
     "data": {
      "image/png": "[encoded data removed]",
      "text/plain": [
       "<Figure size 432x288 with 1 Axes>"
      ]
     },
     "metadata": {
      "needs_background": "light"
     },
     "output_type": "display_data"
    },
    {
     "name": "stdout",
     "output_type": "stream",
     "text": [
      "The r-value is: 0.21998819286846807\n"
     ]
    }
   ],
   "source": [
    "x_values = north_hemisphere['Lat']\n",
    "y_values = north_hemisphere[\"Wind Speed\"]\n",
    "(slope, intercept, rvalue, pvalue, stderr) = linregress(x_values, y_values)\n",
    "regress_values = x_values * slope + intercept\n",
    "line_eq = \"y = \" + str(round(slope,2)) + \"x + \" + str(round(intercept,2))\n",
    "plt.scatter(x_values,y_values)\n",
    "plt.plot(x_values,regress_values,\"r-\")\n",
    "plt.annotate(line_eq,(5.8,0.8),fontsize=15,color=\"red\")\n",
    "plt.xlabel('Latitude')\n",
    "plt.ylabel('Wind Speed(mph)')\n",
    "plt.savefig(\"output_data/latvswindspeed_N2.png\")\n",
    "plt.show()\n",
    "print(f\"The r-value is: {rvalue}\")"
   ]
  },
  {
   "cell_type": "markdown",
   "metadata": {},
   "source": [
    "#### wind speed tends to stay lower  between 0-15 mph  no matter the latitude and would tend to only spike if there was a storm or hurricane/tornado.. "
   ]
  },
  {
   "cell_type": "markdown",
   "metadata": {},
   "source": [
    "####  Southern Hemisphere - Wind Speed (mph) vs. Latitude Linear Regression"
   ]
  },
  {
   "cell_type": "code",
   "execution_count": 23,
   "metadata": {
    "scrolled": true
   },
   "outputs": [
    {
     "data": {
      "image/png": "[encoded data removed]",
      "text/plain": [
       "<Figure size 432x288 with 1 Axes>"
      ]
     },
     "metadata": {
      "needs_background": "light"
     },
     "output_type": "display_data"
    },
    {
     "name": "stdout",
     "output_type": "stream",
     "text": [
      "The r-value is: -0.33411091428297623\n"
     ]
    }
   ],
   "source": [
    "x_values = south_hemisphere['Lat']\n",
    "y_values = south_hemisphere[\"Wind Speed\"]\n",
    "(slope, intercept, rvalue, pvalue, stderr) = linregress(x_values, y_values)\n",
    "regress_values = x_values * slope + intercept\n",
    "line_eq = \"y = \" + str(round(slope,2)) + \"x + \" + str(round(intercept,2))\n",
    "plt.scatter(x_values,y_values)\n",
    "plt.plot(x_values,regress_values,\"r-\")\n",
    "plt.annotate(line_eq,(5.8,0.8),fontsize=15,color=\"red\")\n",
    "plt.xlabel('Latitude')\n",
    "plt.ylabel('Wind Speed(mph)')\n",
    "plt.savefig(\"output_data/latvswindspeed_S2.png\")\n",
    "plt.show()\n",
    "print(f\"The r-value is: {rvalue}\")"
   ]
  },
  {
   "cell_type": "markdown",
   "metadata": {},
   "source": [
    "#### We can tell that windspeed again tends to stay between 0-15 mph no matter what the latitude is. This can shift if a storm were to come by or Hurrican/Tornado in these regions of the world."
   ]
  },
  {
   "cell_type": "code",
   "execution_count": null,
   "metadata": {},
   "outputs": [],
   "source": []
  }
 ],
 "metadata": {
  "anaconda-cloud": {},
  "kernel_info": {
   "name": "python3"
  },
  "kernelspec": {
   "display_name": "PythonData",
   "language": "python",
   "name": "pythondata"
  },
  "language_info": {
   "codemirror_mode": {
    "name": "ipython",
    "version": 3
   },
   "file_extension": ".py",
   "mimetype": "text/x-python",
   "name": "python",
   "nbconvert_exporter": "python",
   "pygments_lexer": "ipython3",
   "version": "3.9.12"
  },
  "latex_envs": {
   "LaTeX_envs_menu_present": true,
   "autoclose": false,
   "autocomplete": true,
   "bibliofile": "biblio.bib",
   "cite_by": "apalike",
   "current_citInitial": 1,
   "eqLabelWithNumbers": true,
   "eqNumInitial": 1,
   "hotkeys": {
    "equation": "Ctrl-E",
    "itemize": "Ctrl-I"
   },
   "labels_anchors": false,
   "latex_user_defs": false,
   "report_style_numbering": false,
   "user_envs_cfg": false
  },
  "nteract": {
   "version": "0.12.3"
  }
 },
 "nbformat": 4,
 "nbformat_minor": 2
}
