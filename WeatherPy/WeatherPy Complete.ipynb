{
 "cells": [
  {
   "cell_type": "markdown",
   "metadata": {},
   "source": [
    "# WeatherPy\n",
    "----\n",
    "\n",
    "#### Note\n",
    "* Instructions have been included for each segment. You do not have to follow them exactly, but they are included to help you think through the steps."
   ]
  },
  {
   "cell_type": "code",
   "execution_count": 1,
   "metadata": {
    "scrolled": true
   },
   "outputs": [],
   "source": [
    "# Dependencies and Setup\n",
    "import matplotlib.pyplot as plt\n",
    "import pandas as pd\n",
    "import numpy as np\n",
    "import requests\n",
    "import time\n",
    "from scipy.stats import linregress\n",
    "\n",
    "# Import API key\n",
    "from api_keys import weather_api_key\n",
    "\n",
    "# Incorporated citipy to determine city based on latitude and longitude\n",
    "from citipy import citipy\n",
    "\n",
    "# Output File (CSV)\n",
    "output_data_file = \"output_data/cities.csv\"\n",
    "\n",
    "# Range of latitudes and longitudes\n",
    "lat_range = (-90, 90)\n",
    "lng_range = (-180, 180)"
   ]
  },
  {
   "cell_type": "markdown",
   "metadata": {},
   "source": [
    "## Generate Cities List"
   ]
  },
  {
   "cell_type": "code",
   "execution_count": 6,
   "metadata": {},
   "outputs": [
    {
     "data": {
      "text/plain": [
       "631"
      ]
     },
     "execution_count": 6,
     "metadata": {},
     "output_type": "execute_result"
    }
   ],
   "source": [
    "# List for holding lat_lngs and cities\n",
    "lat_lngs = []\n",
    "cities = []\n",
    "\n",
    "# Create a set of random lat and lng combinations\n",
    "lats = np.random.uniform(lat_range[0], lat_range[1], size=1500)\n",
    "lngs = np.random.uniform(lng_range[0], lng_range[1], size=1500)\n",
    "lat_lngs = zip(lats, lngs)\n",
    "\n",
    "# Identify nearest city for each lat, lng combination\n",
    "for lat_lng in lat_lngs:\n",
    "    city = citipy.nearest_city(lat_lng[0], lat_lng[1]).city_name\n",
    "    \n",
    "    # If the city is unique, then add it to a our cities list\n",
    "    if city not in cities:\n",
    "        cities.append(city)\n",
    "\n",
    "# Print the city count to confirm sufficient count\n",
    "len(cities)"
   ]
  },
  {
   "cell_type": "markdown",
   "metadata": {},
   "source": [
    "### Perform API Calls\n",
    "* Perform a weather check on each city using a series of successive API calls.\n",
    "* Include a print log of each city as it'sbeing processed (with the city number and city name).\n"
   ]
  },
  {
   "cell_type": "code",
   "execution_count": 7,
   "metadata": {},
   "outputs": [
    {
     "name": "stdout",
     "output_type": "stream",
     "text": [
      "https://api.openweathermap.org/data/2.5/weather?appid=c478c9fc7283ac6a58b8865037bc7b36&units=Imperial&q=\n"
     ]
    }
   ],
   "source": [
    "url = \"https://api.openweathermap.org/data/2.5/weather?\"\n",
    "units = \"Imperial\"\n",
    "\n",
    "# Build query URL \n",
    "query_url = f\"{url}appid={weather_api_key}&units={units}&q=\"\n",
    "print(query_url)"
   ]
  },
  {
   "cell_type": "code",
   "execution_count": 9,
   "metadata": {
    "scrolled": true
   },
   "outputs": [
    {
     "name": "stdout",
     "output_type": "stream",
     "text": [
      "Beginning Data Retrieval\n",
      "-----------------------------\n",
      "Processing Record 1 of Set 1 | ushuaia\n",
      "Processing Record 2 of Set 1 | xai-xai\n",
      "Processing Record 3 of Set 1 | punta arenas\n",
      "Processing Record 4 of Set 1 | tuktoyaktuk\n",
      "Processing Record 5 of Set 1 | airai\n",
      "Processing Record 6 of Set 1 | kavaratti\n",
      "Processing Record 7 of Set 1 | rikitea\n",
      "Processing Record 8 of Set 1 | puerto ayora\n",
      "Processing Record 9 of Set 1 | severo-kurilsk\n",
      "Processing Record 10 of Set 1 | halalo\n",
      "City not found. Skipping...\n",
      "Processing Record 11 of Set 1 | comodoro rivadavia\n",
      "Processing Record 12 of Set 1 | beringovskiy\n",
      "Processing Record 13 of Set 1 | qaanaaq\n",
      "Processing Record 14 of Set 1 | lagoa\n",
      "Processing Record 15 of Set 1 | nioro\n",
      "Processing Record 16 of Set 1 | kamenka\n",
      "Processing Record 17 of Set 1 | mataura\n",
      "Processing Record 18 of Set 1 | hilo\n",
      "Processing Record 19 of Set 1 | chokurdakh\n",
      "Processing Record 20 of Set 1 | coihaique\n",
      "Processing Record 21 of Set 1 | albany\n",
      "Processing Record 22 of Set 1 | khatanga\n",
      "Processing Record 23 of Set 1 | new norfolk\n",
      "Processing Record 24 of Set 1 | mar del plata\n",
      "Processing Record 25 of Set 1 | umzimvubu\n",
      "City not found. Skipping...\n",
      "Processing Record 26 of Set 1 | dikson\n",
      "Processing Record 27 of Set 1 | cidreira\n",
      "Processing Record 28 of Set 1 | cape town\n",
      "Processing Record 29 of Set 1 | meulaboh\n",
      "Processing Record 30 of Set 1 | salym\n",
      "Processing Record 31 of Set 1 | lolua\n",
      "City not found. Skipping...\n",
      "Processing Record 32 of Set 1 | owando\n",
      "Processing Record 33 of Set 1 | bardiyah\n",
      "Processing Record 34 of Set 1 | coquimbo\n",
      "Processing Record 35 of Set 1 | evensk\n",
      "Processing Record 36 of Set 1 | pacific grove\n",
      "Processing Record 37 of Set 1 | georgetown\n",
      "Processing Record 38 of Set 1 | atuona\n",
      "Processing Record 39 of Set 1 | mys shmidta\n",
      "City not found. Skipping...\n",
      "Processing Record 40 of Set 1 | avarua\n",
      "Processing Record 41 of Set 1 | lesozavodsk\n",
      "Processing Record 42 of Set 1 | faya\n",
      "Processing Record 43 of Set 1 | svetlyy\n",
      "Processing Record 44 of Set 1 | xilagani\n",
      "Processing Record 45 of Set 1 | taolanaro\n",
      "City not found. Skipping...\n",
      "Processing Record 46 of Set 1 | naze\n",
      "Processing Record 47 of Set 1 | san quintin\n",
      "Processing Record 48 of Set 1 | jamestown\n",
      "Processing Record 49 of Set 1 | cayenne\n",
      "Processing Record 50 of Set 1 | aklavik\n",
      "Processing Record 1 of Set 2 | kodiak\n",
      "Processing Record 2 of Set 2 | tarragona\n",
      "Processing Record 3 of Set 2 | praia\n",
      "Processing Record 4 of Set 2 | khonuu\n",
      "City not found. Skipping...\n",
      "Processing Record 5 of Set 2 | san cristobal\n",
      "Processing Record 6 of Set 2 | araouane\n",
      "Processing Record 7 of Set 2 | trairi\n",
      "Processing Record 8 of Set 2 | hamilton\n",
      "Processing Record 9 of Set 2 | margate\n",
      "Processing Record 10 of Set 2 | busselton\n",
      "Processing Record 11 of Set 2 | lata\n",
      "Processing Record 12 of Set 2 | cherskiy\n",
      "Processing Record 13 of Set 2 | vikhorevka\n",
      "Processing Record 14 of Set 2 | kaihua\n",
      "Processing Record 15 of Set 2 | dzaoudzi\n",
      "Processing Record 16 of Set 2 | hami\n",
      "Processing Record 17 of Set 2 | attawapiskat\n",
      "City not found. Skipping...\n",
      "Processing Record 18 of Set 2 | nidzica\n",
      "Processing Record 19 of Set 2 | port macquarie\n",
      "Processing Record 20 of Set 2 | kenai\n",
      "Processing Record 21 of Set 2 | lebu\n",
      "Processing Record 22 of Set 2 | karoi\n",
      "Processing Record 23 of Set 2 | aguimes\n",
      "Processing Record 24 of Set 2 | hirara\n",
      "Processing Record 25 of Set 2 | ilyich\n",
      "Processing Record 26 of Set 2 | olinda\n",
      "Processing Record 27 of Set 2 | iqaluit\n",
      "Processing Record 28 of Set 2 | hobart\n",
      "Processing Record 29 of Set 2 | moron\n",
      "Processing Record 30 of Set 2 | arraial do cabo\n",
      "Processing Record 31 of Set 2 | bredasdorp\n",
      "Processing Record 32 of Set 2 | tura\n",
      "Processing Record 33 of Set 2 | gasa\n",
      "Processing Record 34 of Set 2 | agirish\n",
      "Processing Record 35 of Set 2 | sterling\n",
      "Processing Record 36 of Set 2 | mandalgovi\n",
      "Processing Record 37 of Set 2 | bathsheba\n",
      "Processing Record 38 of Set 2 | jiazi\n",
      "Processing Record 39 of Set 2 | san lorenzo\n",
      "Processing Record 40 of Set 2 | san patricio\n",
      "Processing Record 41 of Set 2 | simi valley\n",
      "Processing Record 42 of Set 2 | senanga\n",
      "Processing Record 43 of Set 2 | rengo\n",
      "Processing Record 44 of Set 2 | illoqqortoormiut\n",
      "City not found. Skipping...\n",
      "Processing Record 45 of Set 2 | yellowknife\n",
      "Processing Record 46 of Set 2 | palora\n",
      "Processing Record 47 of Set 2 | bambous virieux\n",
      "Processing Record 48 of Set 2 | mitsamiouli\n",
      "Processing Record 49 of Set 2 | pangnirtung\n",
      "Processing Record 50 of Set 2 | geraldton\n",
      "Processing Record 1 of Set 3 | saskylakh\n",
      "Processing Record 2 of Set 3 | kapaa\n",
      "Processing Record 3 of Set 3 | abu dhabi\n",
      "Processing Record 4 of Set 3 | nikolskoye\n",
      "Processing Record 5 of Set 3 | russell\n",
      "Processing Record 6 of Set 3 | sola\n",
      "Processing Record 7 of Set 3 | la ronge\n",
      "Processing Record 8 of Set 3 | inhambane\n",
      "Processing Record 9 of Set 3 | saint george\n",
      "Processing Record 10 of Set 3 | labuhan\n",
      "Processing Record 11 of Set 3 | mana\n",
      "Processing Record 12 of Set 3 | omis\n",
      "Processing Record 13 of Set 3 | bluff\n",
      "Processing Record 14 of Set 3 | riga\n",
      "Processing Record 15 of Set 3 | butaritari\n",
      "Processing Record 16 of Set 3 | saint-pierre\n",
      "Processing Record 17 of Set 3 | ostrovnoy\n",
      "Processing Record 18 of Set 3 | sunbury\n",
      "Processing Record 19 of Set 3 | sao joao da barra\n",
      "Processing Record 20 of Set 3 | barrow\n",
      "Processing Record 21 of Set 3 | port blair\n",
      "Processing Record 22 of Set 3 | vaini\n",
      "Processing Record 23 of Set 3 | atar\n",
      "Processing Record 24 of Set 3 | hermanus\n",
      "Processing Record 25 of Set 3 | half moon bay\n",
      "Processing Record 26 of Set 3 | bengkulu\n",
      "Processing Record 27 of Set 3 | balkhash\n",
      "Processing Record 28 of Set 3 | najran\n",
      "Processing Record 29 of Set 3 | pevek\n",
      "Processing Record 30 of Set 3 | barbar\n",
      "City not found. Skipping...\n",
      "Processing Record 31 of Set 3 | port elizabeth\n",
      "Processing Record 32 of Set 3 | tautira\n",
      "Processing Record 33 of Set 3 | portland\n",
      "Processing Record 34 of Set 3 | inirida\n",
      "Processing Record 35 of Set 3 | vila franca do campo\n",
      "Processing Record 36 of Set 3 | saint-joseph\n",
      "Processing Record 37 of Set 3 | thompson\n",
      "Processing Record 38 of Set 3 | te anau\n",
      "Processing Record 39 of Set 3 | carnarvon\n",
      "Processing Record 40 of Set 3 | amderma\n",
      "City not found. Skipping...\n",
      "Processing Record 41 of Set 3 | aykhal\n",
      "Processing Record 42 of Set 3 | sao filipe\n",
      "Processing Record 43 of Set 3 | ruatoria\n",
      "City not found. Skipping...\n",
      "Processing Record 44 of Set 3 | guerrero negro\n",
      "Processing Record 45 of Set 3 | roebourne\n",
      "Processing Record 46 of Set 3 | tiksi\n",
      "Processing Record 47 of Set 3 | kruisfontein\n",
      "Processing Record 48 of Set 3 | gizo\n",
      "Processing Record 49 of Set 3 | ushtobe\n",
      "Processing Record 50 of Set 3 | severnoye\n",
      "Processing Record 1 of Set 4 | ribeira grande\n",
      "Processing Record 2 of Set 4 | okha\n",
      "Processing Record 3 of Set 4 | montabaur\n",
      "Processing Record 4 of Set 4 | port alfred\n",
      "Processing Record 5 of Set 4 | gayny\n",
      "Processing Record 6 of Set 4 | kosonsoy\n",
      "Processing Record 7 of Set 4 | merauke\n",
      "Processing Record 8 of Set 4 | hithadhoo\n",
      "Processing Record 9 of Set 4 | udachnyy\n",
      "Processing Record 10 of Set 4 | palu\n",
      "Processing Record 11 of Set 4 | sorong\n",
      "Processing Record 12 of Set 4 | klaksvik\n",
      "Processing Record 13 of Set 4 | la libertad\n",
      "Processing Record 14 of Set 4 | talnakh\n",
      "Processing Record 15 of Set 4 | yatou\n",
      "Processing Record 16 of Set 4 | ziro\n",
      "Processing Record 17 of Set 4 | constantine\n",
      "Processing Record 18 of Set 4 | tortoli\n",
      "Processing Record 19 of Set 4 | cerrito\n",
      "Processing Record 20 of Set 4 | orlik\n",
      "Processing Record 21 of Set 4 | smirnykh\n",
      "Processing Record 22 of Set 4 | bukachacha\n",
      "Processing Record 23 of Set 4 | katsuura\n",
      "Processing Record 24 of Set 4 | torbay\n",
      "Processing Record 25 of Set 4 | nachingwea\n",
      "Processing Record 26 of Set 4 | kudahuvadhoo\n",
      "Processing Record 27 of Set 4 | narsaq\n",
      "Processing Record 28 of Set 4 | kyzyl-suu\n",
      "Processing Record 29 of Set 4 | sept-iles\n",
      "Processing Record 30 of Set 4 | mouzakion\n",
      "City not found. Skipping...\n",
      "Processing Record 31 of Set 4 | olafsvik\n",
      "Processing Record 32 of Set 4 | hoquiam\n",
      "Processing Record 33 of Set 4 | tuatapere\n",
      "Processing Record 34 of Set 4 | padang\n",
      "Processing Record 35 of Set 4 | pare\n",
      "Processing Record 36 of Set 4 | luau\n",
      "Processing Record 37 of Set 4 | khandyga\n",
      "Processing Record 38 of Set 4 | hidrolandia\n",
      "Processing Record 39 of Set 4 | pisco\n",
      "Processing Record 40 of Set 4 | honda\n",
      "Processing Record 41 of Set 4 | east london\n",
      "Processing Record 42 of Set 4 | cabo san lucas\n"
     ]
    },
    {
     "name": "stdout",
     "output_type": "stream",
     "text": [
      "Processing Record 43 of Set 4 | fuengirola\n",
      "Processing Record 44 of Set 4 | eureka\n",
      "Processing Record 45 of Set 4 | manyana\n",
      "Processing Record 46 of Set 4 | debre tabor\n",
      "Processing Record 47 of Set 4 | leninskoye\n",
      "Processing Record 48 of Set 4 | kropotkin\n",
      "Processing Record 49 of Set 4 | santa maria\n",
      "Processing Record 50 of Set 4 | marawi\n",
      "Processing Record 1 of Set 5 | barentsburg\n",
      "City not found. Skipping...\n",
      "Processing Record 2 of Set 5 | maceio\n",
      "Processing Record 3 of Set 5 | armacao dos buzios\n",
      "City not found. Skipping...\n",
      "Processing Record 4 of Set 5 | tasiilaq\n",
      "Processing Record 5 of Set 5 | peniche\n",
      "Processing Record 6 of Set 5 | ravar\n",
      "Processing Record 7 of Set 5 | ponta do sol\n",
      "Processing Record 8 of Set 5 | brae\n",
      "Processing Record 9 of Set 5 | ngukurr\n",
      "City not found. Skipping...\n",
      "Processing Record 10 of Set 5 | ancud\n",
      "Processing Record 11 of Set 5 | fukue\n",
      "Processing Record 12 of Set 5 | dingle\n",
      "Processing Record 13 of Set 5 | aracati\n",
      "Processing Record 14 of Set 5 | sartell\n",
      "Processing Record 15 of Set 5 | xining\n",
      "Processing Record 16 of Set 5 | vallenar\n",
      "Processing Record 17 of Set 5 | lorengau\n",
      "Processing Record 18 of Set 5 | chapleau\n",
      "Processing Record 19 of Set 5 | poum\n",
      "Processing Record 20 of Set 5 | tomatlan\n",
      "Processing Record 21 of Set 5 | mae sai\n",
      "Processing Record 22 of Set 5 | ijaki\n",
      "City not found. Skipping...\n",
      "Processing Record 23 of Set 5 | berlevag\n",
      "Processing Record 24 of Set 5 | ahuimanu\n",
      "Processing Record 25 of Set 5 | lumeje\n",
      "Processing Record 26 of Set 5 | chitral\n",
      "Processing Record 27 of Set 5 | trincomalee\n",
      "Processing Record 28 of Set 5 | mwinilunga\n",
      "Processing Record 29 of Set 5 | bethel\n",
      "Processing Record 30 of Set 5 | palmares do sul\n",
      "Processing Record 31 of Set 5 | ratnagiri\n",
      "Processing Record 32 of Set 5 | isangel\n",
      "Processing Record 33 of Set 5 | altay\n",
      "Processing Record 34 of Set 5 | cururupu\n",
      "Processing Record 35 of Set 5 | kaitangata\n",
      "Processing Record 36 of Set 5 | morristown\n",
      "Processing Record 37 of Set 5 | teguise\n",
      "Processing Record 38 of Set 5 | rawson\n",
      "Processing Record 39 of Set 5 | upernavik\n",
      "Processing Record 40 of Set 5 | lakatoro\n",
      "Processing Record 41 of Set 5 | lima\n",
      "Processing Record 42 of Set 5 | saint-philippe\n",
      "Processing Record 43 of Set 5 | baykit\n",
      "Processing Record 44 of Set 5 | vrangel\n",
      "Processing Record 45 of Set 5 | metsamor\n",
      "Processing Record 46 of Set 5 | hornepayne\n",
      "Processing Record 47 of Set 5 | ilhabela\n",
      "Processing Record 48 of Set 5 | salamanca\n",
      "Processing Record 49 of Set 5 | chiang klang\n",
      "Processing Record 50 of Set 5 | mount gambier\n",
      "Processing Record 1 of Set 6 | havre\n",
      "Processing Record 2 of Set 6 | pangai\n",
      "Processing Record 3 of Set 6 | san policarpo\n",
      "Processing Record 4 of Set 6 | clyde river\n",
      "Processing Record 5 of Set 6 | puerto del rosario\n",
      "Processing Record 6 of Set 6 | cap malheureux\n",
      "Processing Record 7 of Set 6 | miranorte\n",
      "City not found. Skipping...\n",
      "Processing Record 8 of Set 6 | kavieng\n",
      "Processing Record 9 of Set 6 | lander\n",
      "Processing Record 10 of Set 6 | ha\n",
      "City not found. Skipping...\n",
      "Processing Record 11 of Set 6 | santa rosa\n",
      "Processing Record 12 of Set 6 | boden\n",
      "Processing Record 13 of Set 6 | capoterra\n",
      "Processing Record 14 of Set 6 | labuan\n",
      "Processing Record 15 of Set 6 | ayr\n",
      "Processing Record 16 of Set 6 | maloy\n",
      "Processing Record 17 of Set 6 | souillac\n",
      "Processing Record 18 of Set 6 | lavrentiya\n",
      "Processing Record 19 of Set 6 | bolshaya rechka\n",
      "Processing Record 20 of Set 6 | matara\n",
      "Processing Record 21 of Set 6 | ambanja\n",
      "Processing Record 22 of Set 6 | grand river south east\n",
      "City not found. Skipping...\n",
      "Processing Record 23 of Set 6 | san rafael\n",
      "Processing Record 24 of Set 6 | champerico\n",
      "Processing Record 25 of Set 6 | salalah\n",
      "Processing Record 26 of Set 6 | castro\n",
      "Processing Record 27 of Set 6 | itaueira\n",
      "Processing Record 28 of Set 6 | kolda\n",
      "Processing Record 29 of Set 6 | vanimo\n",
      "Processing Record 30 of Set 6 | cerqueira cesar\n",
      "Processing Record 31 of Set 6 | calama\n",
      "Processing Record 32 of Set 6 | kungurtug\n",
      "Processing Record 33 of Set 6 | esperance\n",
      "Processing Record 34 of Set 6 | damulog\n",
      "Processing Record 35 of Set 6 | verkhnyaya inta\n",
      "Processing Record 36 of Set 6 | adrar\n",
      "Processing Record 37 of Set 6 | riyadh\n",
      "Processing Record 38 of Set 6 | kachiry\n",
      "Processing Record 39 of Set 6 | el cobre\n",
      "Processing Record 40 of Set 6 | skalistyy\n",
      "City not found. Skipping...\n",
      "Processing Record 41 of Set 6 | marcona\n",
      "City not found. Skipping...\n",
      "Processing Record 42 of Set 6 | mount isa\n",
      "Processing Record 43 of Set 6 | pakxan\n",
      "Processing Record 44 of Set 6 | goderich\n",
      "Processing Record 45 of Set 6 | llallagua\n",
      "Processing Record 46 of Set 6 | tuensang\n",
      "Processing Record 47 of Set 6 | san ignacio\n",
      "Processing Record 48 of Set 6 | kirkenes\n",
      "Processing Record 49 of Set 6 | macau\n",
      "Processing Record 50 of Set 6 | robe\n",
      "Processing Record 1 of Set 7 | baiyin\n",
      "Processing Record 2 of Set 7 | baker city\n",
      "Processing Record 3 of Set 7 | iraquara\n",
      "Processing Record 4 of Set 7 | sioux falls\n",
      "Processing Record 5 of Set 7 | pathein\n",
      "Processing Record 6 of Set 7 | nizhneyansk\n",
      "City not found. Skipping...\n",
      "Processing Record 7 of Set 7 | damara\n",
      "Processing Record 8 of Set 7 | kapoeta\n",
      "Processing Record 9 of Set 7 | caravelas\n",
      "Processing Record 10 of Set 7 | yarkovo\n",
      "Processing Record 11 of Set 7 | seminole\n",
      "Processing Record 12 of Set 7 | chikhli\n",
      "Processing Record 13 of Set 7 | los llanos de aridane\n",
      "Processing Record 14 of Set 7 | turan\n",
      "Processing Record 15 of Set 7 | bud\n",
      "Processing Record 16 of Set 7 | kiunga\n",
      "Processing Record 17 of Set 7 | coffs harbour\n",
      "Processing Record 18 of Set 7 | bulgan\n",
      "Processing Record 19 of Set 7 | neuquen\n",
      "Processing Record 20 of Set 7 | saleaula\n",
      "City not found. Skipping...\n",
      "Processing Record 21 of Set 7 | coos bay\n",
      "Processing Record 22 of Set 7 | waipawa\n",
      "Processing Record 23 of Set 7 | sri aman\n",
      "Processing Record 24 of Set 7 | tucuman\n",
      "Processing Record 25 of Set 7 | dunedin\n",
      "Processing Record 26 of Set 7 | acobamba\n",
      "Processing Record 27 of Set 7 | bargal\n",
      "City not found. Skipping...\n",
      "Processing Record 28 of Set 7 | prince rupert\n",
      "Processing Record 29 of Set 7 | victoria\n",
      "Processing Record 30 of Set 7 | isla aguada\n",
      "Processing Record 31 of Set 7 | yumen\n",
      "Processing Record 32 of Set 7 | saint-georges\n",
      "Processing Record 33 of Set 7 | mbandaka\n",
      "Processing Record 34 of Set 7 | aktau\n",
      "Processing Record 35 of Set 7 | lazaro cardenas\n",
      "Processing Record 36 of Set 7 | saldanha\n",
      "Processing Record 37 of Set 7 | syamzha\n",
      "Processing Record 38 of Set 7 | plettenberg bay\n",
      "Processing Record 39 of Set 7 | acarau\n",
      "Processing Record 40 of Set 7 | nova zagora\n",
      "Processing Record 41 of Set 7 | el alto\n",
      "Processing Record 42 of Set 7 | kedrovyy\n",
      "Processing Record 43 of Set 7 | pacifica\n",
      "Processing Record 44 of Set 7 | ixtahuacan\n",
      "Processing Record 45 of Set 7 | palmer\n",
      "Processing Record 46 of Set 7 | adre\n",
      "Processing Record 47 of Set 7 | rio gallegos\n",
      "Processing Record 48 of Set 7 | kulaman\n",
      "Processing Record 49 of Set 7 | wloszczowa\n",
      "Processing Record 50 of Set 7 | capao da canoa\n",
      "Processing Record 1 of Set 8 | vytegra\n",
      "Processing Record 2 of Set 8 | ahipara\n",
      "Processing Record 3 of Set 8 | puerto madryn\n",
      "Processing Record 4 of Set 8 | mus\n",
      "Processing Record 5 of Set 8 | thinadhoo\n",
      "Processing Record 6 of Set 8 | provideniya\n",
      "Processing Record 7 of Set 8 | khasan\n",
      "Processing Record 8 of Set 8 | nome\n",
      "Processing Record 9 of Set 8 | misratah\n",
      "Processing Record 10 of Set 8 | ilulissat\n",
      "Processing Record 11 of Set 8 | hovd\n",
      "Processing Record 12 of Set 8 | kysyl-syr\n",
      "Processing Record 13 of Set 8 | vaitupu\n",
      "City not found. Skipping...\n",
      "Processing Record 14 of Set 8 | namibe\n",
      "Processing Record 15 of Set 8 | kendari\n",
      "Processing Record 16 of Set 8 | port lincoln\n",
      "Processing Record 17 of Set 8 | turukhansk\n",
      "Processing Record 18 of Set 8 | waspan\n",
      "Processing Record 19 of Set 8 | krasnyy chikoy\n",
      "Processing Record 20 of Set 8 | hasaki\n",
      "Processing Record 21 of Set 8 | yuncheng\n",
      "Processing Record 22 of Set 8 | helong\n",
      "Processing Record 23 of Set 8 | sinkat\n",
      "City not found. Skipping...\n",
      "Processing Record 24 of Set 8 | flinders\n",
      "Processing Record 25 of Set 8 | tuggurt\n",
      "City not found. Skipping...\n",
      "Processing Record 26 of Set 8 | kilkis\n",
      "Processing Record 27 of Set 8 | bara\n",
      "Processing Record 28 of Set 8 | chuy\n",
      "Processing Record 29 of Set 8 | lompoc\n",
      "Processing Record 30 of Set 8 | crab hill\n",
      "City not found. Skipping...\n",
      "Processing Record 31 of Set 8 | ouadda\n"
     ]
    },
    {
     "name": "stdout",
     "output_type": "stream",
     "text": [
      "Processing Record 32 of Set 8 | faanui\n",
      "Processing Record 33 of Set 8 | goma\n",
      "Processing Record 34 of Set 8 | alpena\n",
      "Processing Record 35 of Set 8 | soria\n",
      "Processing Record 36 of Set 8 | sisimiut\n",
      "Processing Record 37 of Set 8 | ewa beach\n",
      "Processing Record 38 of Set 8 | parabel\n",
      "Processing Record 39 of Set 8 | yerbogachen\n",
      "Processing Record 40 of Set 8 | mawlaik\n",
      "Processing Record 41 of Set 8 | payo\n",
      "Processing Record 42 of Set 8 | pouebo\n",
      "Processing Record 43 of Set 8 | bandundu\n",
      "Processing Record 44 of Set 8 | lodja\n",
      "Processing Record 45 of Set 8 | brainerd\n",
      "Processing Record 46 of Set 8 | hambantota\n",
      "Processing Record 47 of Set 8 | bambari\n",
      "Processing Record 48 of Set 8 | ust-nera\n",
      "Processing Record 49 of Set 8 | porto velho\n",
      "Processing Record 50 of Set 8 | kashi\n",
      "Processing Record 1 of Set 9 | vestmannaeyjar\n",
      "Processing Record 2 of Set 9 | iquique\n",
      "Processing Record 3 of Set 9 | bosaso\n",
      "Processing Record 4 of Set 9 | corumba\n",
      "Processing Record 5 of Set 9 | talcahuano\n",
      "Processing Record 6 of Set 9 | arvika\n",
      "Processing Record 7 of Set 9 | deming\n",
      "Processing Record 8 of Set 9 | shingu\n",
      "Processing Record 9 of Set 9 | bonthe\n",
      "Processing Record 10 of Set 9 | karratha\n",
      "Processing Record 11 of Set 9 | susuman\n",
      "Processing Record 12 of Set 9 | alyangula\n",
      "Processing Record 13 of Set 9 | college\n",
      "Processing Record 14 of Set 9 | grande prairie\n",
      "Processing Record 15 of Set 9 | san carlos de bariloche\n",
      "Processing Record 16 of Set 9 | luba\n",
      "Processing Record 17 of Set 9 | reina mercedes\n",
      "Processing Record 18 of Set 9 | yakeshi\n",
      "Processing Record 19 of Set 9 | tidore\n",
      "City not found. Skipping...\n",
      "Processing Record 20 of Set 9 | yulara\n",
      "Processing Record 21 of Set 9 | smithfield\n",
      "Processing Record 22 of Set 9 | broome\n",
      "Processing Record 23 of Set 9 | lebedinyy\n",
      "Processing Record 24 of Set 9 | nador\n",
      "Processing Record 25 of Set 9 | quang ngai\n",
      "Processing Record 26 of Set 9 | inuvik\n",
      "Processing Record 27 of Set 9 | rungata\n",
      "City not found. Skipping...\n",
      "Processing Record 28 of Set 9 | ostersund\n",
      "Processing Record 29 of Set 9 | samusu\n",
      "City not found. Skipping...\n",
      "Processing Record 30 of Set 9 | kayerkan\n",
      "Processing Record 31 of Set 9 | soller\n",
      "Processing Record 32 of Set 9 | abu samrah\n",
      "Processing Record 33 of Set 9 | luderitz\n",
      "Processing Record 34 of Set 9 | seoul\n",
      "Processing Record 35 of Set 9 | puerto escondido\n",
      "Processing Record 36 of Set 9 | mahebourg\n",
      "Processing Record 37 of Set 9 | noumea\n",
      "Processing Record 38 of Set 9 | huarmey\n",
      "Processing Record 39 of Set 9 | vanavara\n",
      "Processing Record 40 of Set 9 | nerchinsk\n",
      "Processing Record 41 of Set 9 | sangar\n",
      "Processing Record 42 of Set 9 | dumas\n",
      "Processing Record 43 of Set 9 | sarangani\n",
      "Processing Record 44 of Set 9 | langenburg\n",
      "Processing Record 45 of Set 9 | mocuba\n",
      "Processing Record 46 of Set 9 | wewak\n",
      "Processing Record 47 of Set 9 | kamenskoye\n",
      "City not found. Skipping...\n",
      "Processing Record 48 of Set 9 | mabaruma\n",
      "Processing Record 49 of Set 9 | tawzar\n",
      "City not found. Skipping...\n",
      "Processing Record 50 of Set 9 | uribia\n",
      "Processing Record 1 of Set 10 | mahibadhoo\n",
      "Processing Record 2 of Set 10 | ladario\n",
      "Processing Record 3 of Set 10 | rodrigues alves\n",
      "Processing Record 4 of Set 10 | tilichiki\n",
      "Processing Record 5 of Set 10 | usvyaty\n",
      "Processing Record 6 of Set 10 | senador jose porfirio\n",
      "Processing Record 7 of Set 10 | rincon\n",
      "Processing Record 8 of Set 10 | gorele\n",
      "Processing Record 9 of Set 10 | buchanan\n",
      "Processing Record 10 of Set 10 | ilam\n",
      "Processing Record 11 of Set 10 | njombe\n",
      "Processing Record 12 of Set 10 | burica\n",
      "City not found. Skipping...\n",
      "Processing Record 13 of Set 10 | san angelo\n",
      "Processing Record 14 of Set 10 | nizwa\n",
      "Processing Record 15 of Set 10 | kegayli\n",
      "City not found. Skipping...\n",
      "Processing Record 16 of Set 10 | ariquemes\n",
      "Processing Record 17 of Set 10 | vreed en hoop\n",
      "City not found. Skipping...\n",
      "Processing Record 18 of Set 10 | alugan\n",
      "Processing Record 19 of Set 10 | laguna\n",
      "Processing Record 20 of Set 10 | teya\n",
      "Processing Record 21 of Set 10 | mariental\n",
      "Processing Record 22 of Set 10 | haibowan\n",
      "City not found. Skipping...\n",
      "Processing Record 23 of Set 10 | westport\n",
      "Processing Record 24 of Set 10 | broken hill\n",
      "Processing Record 25 of Set 10 | seymchan\n",
      "Processing Record 26 of Set 10 | kulhudhuffushi\n",
      "Processing Record 27 of Set 10 | bonavista\n",
      "Processing Record 28 of Set 10 | sayyan\n",
      "Processing Record 29 of Set 10 | rocha\n",
      "Processing Record 30 of Set 10 | masvingo\n",
      "Processing Record 31 of Set 10 | togur\n",
      "Processing Record 32 of Set 10 | wahran\n",
      "City not found. Skipping...\n",
      "Processing Record 33 of Set 10 | meyungs\n",
      "City not found. Skipping...\n",
      "Processing Record 34 of Set 10 | xihe\n",
      "Processing Record 35 of Set 10 | lathrop\n",
      "Processing Record 36 of Set 10 | el faiyum\n",
      "City not found. Skipping...\n",
      "Processing Record 37 of Set 10 | umm ruwabah\n",
      "City not found. Skipping...\n",
      "Processing Record 38 of Set 10 | senador guiomard\n",
      "Processing Record 39 of Set 10 | visby\n",
      "Processing Record 40 of Set 10 | sao miguel do araguaia\n",
      "Processing Record 41 of Set 10 | skibbereen\n",
      "Processing Record 42 of Set 10 | gulariya\n",
      "Processing Record 43 of Set 10 | masuda\n",
      "Processing Record 44 of Set 10 | tonantins\n",
      "Processing Record 45 of Set 10 | imeni poliny osipenko\n",
      "Processing Record 46 of Set 10 | puerto baquerizo moreno\n",
      "Processing Record 47 of Set 10 | acapulco\n",
      "Processing Record 48 of Set 10 | sydney\n",
      "Processing Record 49 of Set 10 | boca do acre\n",
      "Processing Record 50 of Set 10 | pagman\n",
      "City not found. Skipping...\n",
      "Processing Record 1 of Set 11 | beberibe\n",
      "Processing Record 2 of Set 11 | aitape\n",
      "Processing Record 3 of Set 11 | karkaralinsk\n",
      "City not found. Skipping...\n",
      "Processing Record 4 of Set 11 | vostok\n",
      "Processing Record 5 of Set 11 | tapes\n",
      "Processing Record 6 of Set 11 | mersing\n",
      "Processing Record 7 of Set 11 | kilrush\n",
      "Processing Record 8 of Set 11 | srednekolymsk\n",
      "Processing Record 9 of Set 11 | sharkan\n",
      "Processing Record 10 of Set 11 | sentyabrskiy\n",
      "City not found. Skipping...\n",
      "Processing Record 11 of Set 11 | bull savanna\n",
      "Processing Record 12 of Set 11 | alberton\n",
      "Processing Record 13 of Set 11 | maamba\n",
      "Processing Record 14 of Set 11 | bolshoy kamen\n",
      "Processing Record 15 of Set 11 | bumba\n",
      "Processing Record 16 of Set 11 | neyshabur\n",
      "Processing Record 17 of Set 11 | richards bay\n",
      "Processing Record 18 of Set 11 | beian\n",
      "Processing Record 19 of Set 11 | sitka\n",
      "Processing Record 20 of Set 11 | axim\n",
      "Processing Record 21 of Set 11 | mashhad\n",
      "Processing Record 22 of Set 11 | ifakara\n",
      "Processing Record 23 of Set 11 | chapais\n",
      "Processing Record 24 of Set 11 | ipixuna\n",
      "Processing Record 25 of Set 11 | chagoda\n",
      "Processing Record 26 of Set 11 | ayer itam\n",
      "City not found. Skipping...\n",
      "Processing Record 27 of Set 11 | nioki\n",
      "Processing Record 28 of Set 11 | zhanakorgan\n",
      "Processing Record 29 of Set 11 | simpang\n",
      "Processing Record 30 of Set 11 | lasa\n",
      "Processing Record 31 of Set 11 | gamba\n",
      "Processing Record 32 of Set 11 | waingapu\n",
      "Processing Record 33 of Set 11 | songea\n",
      "Processing Record 34 of Set 11 | tuy hoa\n",
      "Processing Record 35 of Set 11 | kahului\n",
      "Processing Record 36 of Set 11 | sur\n",
      "Processing Record 37 of Set 11 | flin flon\n",
      "Processing Record 38 of Set 11 | yinchuan\n",
      "Processing Record 39 of Set 11 | aberchirder\n",
      "Processing Record 40 of Set 11 | takoradi\n",
      "Processing Record 41 of Set 11 | jinchang\n",
      "Processing Record 42 of Set 11 | icatu\n",
      "Processing Record 43 of Set 11 | abha\n",
      "Processing Record 44 of Set 11 | lengshuitan\n",
      "Processing Record 45 of Set 11 | paracatu\n",
      "Processing Record 46 of Set 11 | nemuro\n",
      "Processing Record 47 of Set 11 | nanortalik\n",
      "Processing Record 48 of Set 11 | jiddah\n",
      "City not found. Skipping...\n",
      "Processing Record 49 of Set 11 | husavik\n",
      "Processing Record 50 of Set 11 | mareeba\n",
      "Processing Record 1 of Set 12 | dzhusaly\n",
      "City not found. Skipping...\n",
      "Processing Record 2 of Set 12 | linxia\n",
      "Processing Record 3 of Set 12 | iki-burul\n",
      "Processing Record 4 of Set 12 | belushya guba\n",
      "City not found. Skipping...\n",
      "Processing Record 5 of Set 12 | solnechnyy\n",
      "Processing Record 6 of Set 12 | baijiantan\n",
      "Processing Record 7 of Set 12 | pochutla\n",
      "Processing Record 8 of Set 12 | heihe\n",
      "Processing Record 9 of Set 12 | ust-kamchatsk\n",
      "City not found. Skipping...\n",
      "Processing Record 10 of Set 12 | shyroke\n",
      "Processing Record 11 of Set 12 | mutoko\n",
      "Processing Record 12 of Set 12 | podporozhye\n",
      "Processing Record 13 of Set 12 | gorontalo\n",
      "Processing Record 14 of Set 12 | seydi\n",
      "Processing Record 15 of Set 12 | tucurui\n"
     ]
    },
    {
     "name": "stdout",
     "output_type": "stream",
     "text": [
      "Processing Record 16 of Set 12 | arrifes\n",
      "Processing Record 17 of Set 12 | saryshagan\n",
      "City not found. Skipping...\n",
      "Processing Record 18 of Set 12 | bloomfield\n",
      "Processing Record 19 of Set 12 | muros\n",
      "Processing Record 20 of Set 12 | mafra\n",
      "Processing Record 21 of Set 12 | tsihombe\n",
      "City not found. Skipping...\n",
      "Processing Record 22 of Set 12 | ulladulla\n",
      "Processing Record 23 of Set 12 | keratsinion\n",
      "City not found. Skipping...\n",
      "Processing Record 24 of Set 12 | bolu\n",
      "Processing Record 25 of Set 12 | yeppoon\n",
      "Processing Record 26 of Set 12 | bartica\n",
      "Processing Record 27 of Set 12 | taubate\n",
      "Processing Record 28 of Set 12 | netivot\n",
      "Processing Record 29 of Set 12 | kisangani\n",
      "Processing Record 30 of Set 12 | vila\n",
      "Processing Record 31 of Set 12 | vao\n",
      "Processing Record 32 of Set 12 | kazanskaya\n",
      "Processing Record 33 of Set 12 | druzhba\n",
      "Processing Record 34 of Set 12 | morgan city\n",
      "Processing Record 35 of Set 12 | kieta\n",
      "Processing Record 36 of Set 12 | apac\n",
      "Processing Record 37 of Set 12 | bilibino\n",
      "Processing Record 38 of Set 12 | benjamin hill\n",
      "Processing Record 39 of Set 12 | norman wells\n",
      "Processing Record 40 of Set 12 | fortuna\n",
      "Processing Record 41 of Set 12 | roald\n",
      "Processing Record 42 of Set 12 | shimoda\n",
      "Processing Record 43 of Set 12 | sibolga\n",
      "Processing Record 44 of Set 12 | escarcega\n",
      "Processing Record 45 of Set 12 | boatlaname\n",
      "City not found. Skipping...\n",
      "Processing Record 46 of Set 12 | grand gaube\n",
      "Processing Record 47 of Set 12 | santa isabel do rio negro\n",
      "Processing Record 48 of Set 12 | asau\n",
      "Processing Record 49 of Set 12 | hanna\n",
      "Processing Record 50 of Set 12 | satitoa\n",
      "City not found. Skipping...\n",
      "Processing Record 1 of Set 13 | karlshamn\n",
      "Processing Record 2 of Set 13 | lincoln\n",
      "Processing Record 3 of Set 13 | itupiranga\n",
      "Processing Record 4 of Set 13 | simbakoro\n",
      "Processing Record 5 of Set 13 | brindisi\n",
      "Processing Record 6 of Set 13 | myitkyina\n",
      "Processing Record 7 of Set 13 | bowen\n",
      "Processing Record 8 of Set 13 | nantucket\n",
      "Processing Record 9 of Set 13 | codrington\n",
      "Processing Record 10 of Set 13 | hay river\n",
      "Processing Record 11 of Set 13 | otofuke\n",
      "Processing Record 12 of Set 13 | shubarkuduk\n",
      "Processing Record 13 of Set 13 | touros\n",
      "Processing Record 14 of Set 13 | tual\n",
      "Processing Record 15 of Set 13 | yanam\n",
      "Processing Record 16 of Set 13 | constitucion\n",
      "Processing Record 17 of Set 13 | dryden\n",
      "Processing Record 18 of Set 13 | otjiwarongo\n",
      "Processing Record 19 of Set 13 | sioux lookout\n",
      "Processing Record 20 of Set 13 | jumla\n",
      "Processing Record 21 of Set 13 | amapa\n",
      "Processing Record 22 of Set 13 | port hardy\n",
      "Processing Record 23 of Set 13 | siniscola\n",
      "Processing Record 24 of Set 13 | port hedland\n",
      "Processing Record 25 of Set 13 | ode\n",
      "Processing Record 26 of Set 13 | dalvik\n",
      "Processing Record 27 of Set 13 | sinnamary\n",
      "Processing Record 28 of Set 13 | kalmunai\n",
      "Processing Record 29 of Set 13 | kota belud\n",
      "Processing Record 30 of Set 13 | marsa matruh\n",
      "Processing Record 31 of Set 13 | coahuayana\n",
      "-----------------------------\n",
      "Data Retrieval Complete      \n",
      "-----------------------------\n"
     ]
    }
   ],
   "source": [
    "# list\n",
    "city_list = []\n",
    "lat = []\n",
    "lng = []\n",
    "max_temp = []\n",
    "humidity = []\n",
    "cloudiness = []\n",
    "wind_speed = []\n",
    "country = []\n",
    "date = []\n",
    "\n",
    "print(\"Beginning Data Retrieval\")\n",
    "print(\"-----------------------------\")\n",
    "\n",
    "count = 0\n",
    "set_s = 1\n",
    "\n",
    "#loop through the lsit of cities\n",
    "for i, city in enumerate(cities):\n",
    "\n",
    "\n",
    "#put in set of 50  \n",
    "    count += 1\n",
    "    \n",
    "    if count == 51:\n",
    "        count = 1 \n",
    "        set_s += 1\n",
    "        \n",
    "        \n",
    "           \n",
    "        \n",
    "    print(f\"Processing Record {count} of Set {set_s} | {city}\") \n",
    "\n",
    "# get data  \n",
    "    try:\n",
    "        response = requests.get(query_url + city).json()\n",
    "        city_list.append(response[\"name\"])\n",
    "        lat.append(response[\"coord\"][\"lat\"])\n",
    "        lng.append(response[\"coord\"][\"lon\"])\n",
    "        max_temp.append(response[\"main\"][\"temp_max\"])\n",
    "        humidity.append(response[\"main\"][\"humidity\"])\n",
    "        cloudiness.append(response[\"clouds\"][\"all\"])\n",
    "        wind_speed.append(response[\"wind\"][\"speed\"])\n",
    "        country.append(response[\"sys\"][\"country\"])\n",
    "        date.append(response[\"dt\"])\n",
    "        \n",
    "\n",
    "# append null values\n",
    "    except KeyError:\n",
    "        print(\"City not found. Skipping...\")\n",
    "        pass\n",
    "        \n",
    "        \n",
    "print(\"-----------------------------\")\n",
    "print(\"Data Retrieval Complete      \")\n",
    "print(\"-----------------------------\")    "
   ]
  },
  {
   "cell_type": "markdown",
   "metadata": {},
   "source": [
    "### Convert Raw Data to DataFrame\n",
    "* Export the city data into a .csv.\n",
    "* Display the DataFrame"
   ]
  },
  {
   "cell_type": "code",
   "execution_count": 82,
   "metadata": {},
   "outputs": [
    {
     "data": {
      "text/html": [
       "<div>\n",
       "<style scoped>\n",
       "    .dataframe tbody tr th:only-of-type {\n",
       "        vertical-align: middle;\n",
       "    }\n",
       "\n",
       "    .dataframe tbody tr th {\n",
       "        vertical-align: top;\n",
       "    }\n",
       "\n",
       "    .dataframe thead th {\n",
       "        text-align: right;\n",
       "    }\n",
       "</style>\n",
       "<table border=\"1\" class=\"dataframe\">\n",
       "  <thead>\n",
       "    <tr style=\"text-align: right;\">\n",
       "      <th></th>\n",
       "      <th>City</th>\n",
       "      <th>Lat</th>\n",
       "      <th>Lng</th>\n",
       "      <th>Max Temp</th>\n",
       "      <th>Humidity</th>\n",
       "      <th>Cloudiness</th>\n",
       "      <th>Wind Speed</th>\n",
       "      <th>Country</th>\n",
       "      <th>Date</th>\n",
       "    </tr>\n",
       "  </thead>\n",
       "  <tbody>\n",
       "    <tr>\n",
       "      <th>0</th>\n",
       "      <td>Ushuaia</td>\n",
       "      <td>-54.8000</td>\n",
       "      <td>-68.3000</td>\n",
       "      <td>46.06</td>\n",
       "      <td>81</td>\n",
       "      <td>75</td>\n",
       "      <td>13.80</td>\n",
       "      <td>AR</td>\n",
       "      <td>1666566814</td>\n",
       "    </tr>\n",
       "    <tr>\n",
       "      <th>1</th>\n",
       "      <td>Xai-Xai</td>\n",
       "      <td>-25.0519</td>\n",
       "      <td>33.6442</td>\n",
       "      <td>70.45</td>\n",
       "      <td>86</td>\n",
       "      <td>8</td>\n",
       "      <td>5.59</td>\n",
       "      <td>MZ</td>\n",
       "      <td>1666566814</td>\n",
       "    </tr>\n",
       "    <tr>\n",
       "      <th>2</th>\n",
       "      <td>Punta Arenas</td>\n",
       "      <td>-53.1500</td>\n",
       "      <td>-70.9167</td>\n",
       "      <td>50.11</td>\n",
       "      <td>62</td>\n",
       "      <td>0</td>\n",
       "      <td>10.36</td>\n",
       "      <td>CL</td>\n",
       "      <td>1666566658</td>\n",
       "    </tr>\n",
       "    <tr>\n",
       "      <th>3</th>\n",
       "      <td>Tuktoyaktuk</td>\n",
       "      <td>69.4541</td>\n",
       "      <td>-133.0374</td>\n",
       "      <td>14.58</td>\n",
       "      <td>80</td>\n",
       "      <td>20</td>\n",
       "      <td>7.25</td>\n",
       "      <td>CA</td>\n",
       "      <td>1666566815</td>\n",
       "    </tr>\n",
       "    <tr>\n",
       "      <th>4</th>\n",
       "      <td>Airai</td>\n",
       "      <td>-8.9266</td>\n",
       "      <td>125.4092</td>\n",
       "      <td>67.24</td>\n",
       "      <td>68</td>\n",
       "      <td>95</td>\n",
       "      <td>0.38</td>\n",
       "      <td>TL</td>\n",
       "      <td>1666566815</td>\n",
       "    </tr>\n",
       "  </tbody>\n",
       "</table>\n",
       "</div>"
      ],
      "text/plain": [
       "           City      Lat       Lng  Max Temp  Humidity  Cloudiness  \\\n",
       "0       Ushuaia -54.8000  -68.3000     46.06        81          75   \n",
       "1       Xai-Xai -25.0519   33.6442     70.45        86           8   \n",
       "2  Punta Arenas -53.1500  -70.9167     50.11        62           0   \n",
       "3   Tuktoyaktuk  69.4541 -133.0374     14.58        80          20   \n",
       "4         Airai  -8.9266  125.4092     67.24        68          95   \n",
       "\n",
       "   Wind Speed Country        Date  \n",
       "0       13.80      AR  1666566814  \n",
       "1        5.59      MZ  1666566814  \n",
       "2       10.36      CL  1666566658  \n",
       "3        7.25      CA  1666566815  \n",
       "4        0.38      TL  1666566815  "
      ]
     },
     "execution_count": 82,
     "metadata": {},
     "output_type": "execute_result"
    }
   ],
   "source": [
    "weather_dict = pd.DataFrame ({\n",
    "                            \"City\": city_list,\n",
    "                            \"Lat\": lat,\n",
    "                            \"Lng\": lng,\n",
    "                            \"Max Temp\": max_temp,\n",
    "                            \"Humidity\": humidity,\n",
    "                            \"Cloudiness\": cloudiness,\n",
    "                            \"Wind Speed\": wind_speed,\n",
    "                            \"Country\": country,\n",
    "                            \"Date\": date\n",
    "})\n",
    "\n",
    "weather_dict.head()"
   ]
  },
  {
   "cell_type": "code",
   "execution_count": 83,
   "metadata": {},
   "outputs": [],
   "source": [
    "weather_dict.to_csv(\"output_data/weather_dict.csv\", index=False)\n"
   ]
  },
  {
   "cell_type": "code",
   "execution_count": 84,
   "metadata": {},
   "outputs": [
    {
     "data": {
      "text/html": [
       "<div>\n",
       "<style scoped>\n",
       "    .dataframe tbody tr th:only-of-type {\n",
       "        vertical-align: middle;\n",
       "    }\n",
       "\n",
       "    .dataframe tbody tr th {\n",
       "        vertical-align: top;\n",
       "    }\n",
       "\n",
       "    .dataframe thead th {\n",
       "        text-align: right;\n",
       "    }\n",
       "</style>\n",
       "<table border=\"1\" class=\"dataframe\">\n",
       "  <thead>\n",
       "    <tr style=\"text-align: right;\">\n",
       "      <th></th>\n",
       "      <th>Lat</th>\n",
       "      <th>Lng</th>\n",
       "      <th>Max Temp</th>\n",
       "      <th>Humidity</th>\n",
       "      <th>Cloudiness</th>\n",
       "      <th>Wind Speed</th>\n",
       "      <th>Date</th>\n",
       "    </tr>\n",
       "  </thead>\n",
       "  <tbody>\n",
       "    <tr>\n",
       "      <th>count</th>\n",
       "      <td>577.000000</td>\n",
       "      <td>577.000000</td>\n",
       "      <td>577.000000</td>\n",
       "      <td>577.000000</td>\n",
       "      <td>577.000000</td>\n",
       "      <td>577.000000</td>\n",
       "      <td>5.770000e+02</td>\n",
       "    </tr>\n",
       "    <tr>\n",
       "      <th>mean</th>\n",
       "      <td>18.595453</td>\n",
       "      <td>18.985195</td>\n",
       "      <td>60.134766</td>\n",
       "      <td>74.625650</td>\n",
       "      <td>62.440208</td>\n",
       "      <td>7.962582</td>\n",
       "      <td>1.666567e+09</td>\n",
       "    </tr>\n",
       "    <tr>\n",
       "      <th>std</th>\n",
       "      <td>32.969310</td>\n",
       "      <td>90.469118</td>\n",
       "      <td>19.327805</td>\n",
       "      <td>18.409366</td>\n",
       "      <td>38.635184</td>\n",
       "      <td>5.866962</td>\n",
       "      <td>9.071682e+01</td>\n",
       "    </tr>\n",
       "    <tr>\n",
       "      <th>min</th>\n",
       "      <td>-54.800000</td>\n",
       "      <td>-175.200000</td>\n",
       "      <td>-9.240000</td>\n",
       "      <td>7.000000</td>\n",
       "      <td>0.000000</td>\n",
       "      <td>0.000000</td>\n",
       "      <td>1.666566e+09</td>\n",
       "    </tr>\n",
       "    <tr>\n",
       "      <th>25%</th>\n",
       "      <td>-8.133300</td>\n",
       "      <td>-63.903900</td>\n",
       "      <td>48.790000</td>\n",
       "      <td>67.000000</td>\n",
       "      <td>25.000000</td>\n",
       "      <td>3.440000</td>\n",
       "      <td>1.666567e+09</td>\n",
       "    </tr>\n",
       "    <tr>\n",
       "      <th>50%</th>\n",
       "      <td>20.516900</td>\n",
       "      <td>22.870800</td>\n",
       "      <td>65.170000</td>\n",
       "      <td>78.000000</td>\n",
       "      <td>76.000000</td>\n",
       "      <td>6.350000</td>\n",
       "      <td>1.666567e+09</td>\n",
       "    </tr>\n",
       "    <tr>\n",
       "      <th>75%</th>\n",
       "      <td>45.621600</td>\n",
       "      <td>101.766700</td>\n",
       "      <td>75.610000</td>\n",
       "      <td>88.000000</td>\n",
       "      <td>100.000000</td>\n",
       "      <td>11.500000</td>\n",
       "      <td>1.666567e+09</td>\n",
       "    </tr>\n",
       "    <tr>\n",
       "      <th>max</th>\n",
       "      <td>77.484000</td>\n",
       "      <td>179.316700</td>\n",
       "      <td>89.620000</td>\n",
       "      <td>100.000000</td>\n",
       "      <td>100.000000</td>\n",
       "      <td>30.850000</td>\n",
       "      <td>1.666567e+09</td>\n",
       "    </tr>\n",
       "  </tbody>\n",
       "</table>\n",
       "</div>"
      ],
      "text/plain": [
       "              Lat         Lng    Max Temp    Humidity  Cloudiness  Wind Speed  \\\n",
       "count  577.000000  577.000000  577.000000  577.000000  577.000000  577.000000   \n",
       "mean    18.595453   18.985195   60.134766   74.625650   62.440208    7.962582   \n",
       "std     32.969310   90.469118   19.327805   18.409366   38.635184    5.866962   \n",
       "min    -54.800000 -175.200000   -9.240000    7.000000    0.000000    0.000000   \n",
       "25%     -8.133300  -63.903900   48.790000   67.000000   25.000000    3.440000   \n",
       "50%     20.516900   22.870800   65.170000   78.000000   76.000000    6.350000   \n",
       "75%     45.621600  101.766700   75.610000   88.000000  100.000000   11.500000   \n",
       "max     77.484000  179.316700   89.620000  100.000000  100.000000   30.850000   \n",
       "\n",
       "               Date  \n",
       "count  5.770000e+02  \n",
       "mean   1.666567e+09  \n",
       "std    9.071682e+01  \n",
       "min    1.666566e+09  \n",
       "25%    1.666567e+09  \n",
       "50%    1.666567e+09  \n",
       "75%    1.666567e+09  \n",
       "max    1.666567e+09  "
      ]
     },
     "execution_count": 84,
     "metadata": {},
     "output_type": "execute_result"
    }
   ],
   "source": [
    "weather_dict.describe()"
   ]
  },
  {
   "cell_type": "markdown",
   "metadata": {},
   "source": [
    "## Inspect the data and remove the cities where the humidity > 100%.\n",
    "----\n",
    "Skip this step if there are no cities that have humidity > 100%. "
   ]
  },
  {
   "cell_type": "code",
   "execution_count": 85,
   "metadata": {},
   "outputs": [
    {
     "data": {
      "text/plain": [
       "City          6\n",
       "Lat           6\n",
       "Lng           6\n",
       "Max Temp      6\n",
       "Humidity      6\n",
       "Cloudiness    6\n",
       "Wind Speed    6\n",
       "Country       6\n",
       "Date          6\n",
       "dtype: int64"
      ]
     },
     "execution_count": 85,
     "metadata": {},
     "output_type": "execute_result"
    }
   ],
   "source": [
    "#cities over 100 humidity\n",
    "humidity_over = weather_dict.loc[weather_dict[\"Humidity\"] >= 100].count()\n",
    "humidity_over"
   ]
  },
  {
   "cell_type": "code",
   "execution_count": 86,
   "metadata": {},
   "outputs": [
    {
     "data": {
      "text/html": [
       "<div>\n",
       "<style scoped>\n",
       "    .dataframe tbody tr th:only-of-type {\n",
       "        vertical-align: middle;\n",
       "    }\n",
       "\n",
       "    .dataframe tbody tr th {\n",
       "        vertical-align: top;\n",
       "    }\n",
       "\n",
       "    .dataframe thead th {\n",
       "        text-align: right;\n",
       "    }\n",
       "</style>\n",
       "<table border=\"1\" class=\"dataframe\">\n",
       "  <thead>\n",
       "    <tr style=\"text-align: right;\">\n",
       "      <th></th>\n",
       "      <th>City</th>\n",
       "      <th>Lat</th>\n",
       "      <th>Lng</th>\n",
       "      <th>Max Temp</th>\n",
       "      <th>Humidity</th>\n",
       "      <th>Cloudiness</th>\n",
       "      <th>Wind Speed</th>\n",
       "      <th>Country</th>\n",
       "      <th>Date</th>\n",
       "    </tr>\n",
       "  </thead>\n",
       "  <tbody>\n",
       "    <tr>\n",
       "      <th>0</th>\n",
       "      <td>Ushuaia</td>\n",
       "      <td>-54.8000</td>\n",
       "      <td>-68.3000</td>\n",
       "      <td>46.06</td>\n",
       "      <td>81</td>\n",
       "      <td>75</td>\n",
       "      <td>13.80</td>\n",
       "      <td>AR</td>\n",
       "      <td>1666566814</td>\n",
       "    </tr>\n",
       "    <tr>\n",
       "      <th>1</th>\n",
       "      <td>Xai-Xai</td>\n",
       "      <td>-25.0519</td>\n",
       "      <td>33.6442</td>\n",
       "      <td>70.45</td>\n",
       "      <td>86</td>\n",
       "      <td>8</td>\n",
       "      <td>5.59</td>\n",
       "      <td>MZ</td>\n",
       "      <td>1666566814</td>\n",
       "    </tr>\n",
       "    <tr>\n",
       "      <th>2</th>\n",
       "      <td>Punta Arenas</td>\n",
       "      <td>-53.1500</td>\n",
       "      <td>-70.9167</td>\n",
       "      <td>50.11</td>\n",
       "      <td>62</td>\n",
       "      <td>0</td>\n",
       "      <td>10.36</td>\n",
       "      <td>CL</td>\n",
       "      <td>1666566658</td>\n",
       "    </tr>\n",
       "    <tr>\n",
       "      <th>3</th>\n",
       "      <td>Tuktoyaktuk</td>\n",
       "      <td>69.4541</td>\n",
       "      <td>-133.0374</td>\n",
       "      <td>14.58</td>\n",
       "      <td>80</td>\n",
       "      <td>20</td>\n",
       "      <td>7.25</td>\n",
       "      <td>CA</td>\n",
       "      <td>1666566815</td>\n",
       "    </tr>\n",
       "    <tr>\n",
       "      <th>4</th>\n",
       "      <td>Airai</td>\n",
       "      <td>-8.9266</td>\n",
       "      <td>125.4092</td>\n",
       "      <td>67.24</td>\n",
       "      <td>68</td>\n",
       "      <td>95</td>\n",
       "      <td>0.38</td>\n",
       "      <td>TL</td>\n",
       "      <td>1666566815</td>\n",
       "    </tr>\n",
       "  </tbody>\n",
       "</table>\n",
       "</div>"
      ],
      "text/plain": [
       "           City      Lat       Lng  Max Temp  Humidity  Cloudiness  \\\n",
       "0       Ushuaia -54.8000  -68.3000     46.06        81          75   \n",
       "1       Xai-Xai -25.0519   33.6442     70.45        86           8   \n",
       "2  Punta Arenas -53.1500  -70.9167     50.11        62           0   \n",
       "3   Tuktoyaktuk  69.4541 -133.0374     14.58        80          20   \n",
       "4         Airai  -8.9266  125.4092     67.24        68          95   \n",
       "\n",
       "   Wind Speed Country        Date  \n",
       "0       13.80      AR  1666566814  \n",
       "1        5.59      MZ  1666566814  \n",
       "2       10.36      CL  1666566658  \n",
       "3        7.25      CA  1666566815  \n",
       "4        0.38      TL  1666566815  "
      ]
     },
     "execution_count": 86,
     "metadata": {},
     "output_type": "execute_result"
    }
   ],
   "source": [
    "# Make a new DataFrame equal to the city data to drop all humidity outliers by index.\n",
    "# Passing \"inplace=False\" will make a copy of the city_data DataFrame, which we call \"clean_city_data\".\n",
    "clean_city_data = weather_dict.drop(humidity_over, inplace=False)\n",
    "clean_city_data.head()"
   ]
  },
  {
   "cell_type": "code",
   "execution_count": 87,
   "metadata": {},
   "outputs": [],
   "source": [
    "clean_city_data.to_csv(\"output_data/clean.csv\", index=False)"
   ]
  },
  {
   "cell_type": "markdown",
   "metadata": {},
   "source": [
    "## Plotting the Data\n",
    "* Use proper labeling of the plots using plot titles (including date of analysis) and axes labels.\n",
    "* Save the plotted figures as .pngs."
   ]
  },
  {
   "cell_type": "markdown",
   "metadata": {},
   "source": [
    "## Latitude vs. Temperature Plot"
   ]
  },
  {
   "cell_type": "code",
   "execution_count": 88,
   "metadata": {
    "scrolled": true
   },
   "outputs": [
    {
     "data": {
      "image/png": "[encoded data removed]",
      "text/plain": [
       "<Figure size 432x288 with 1 Axes>"
      ]
     },
     "metadata": {
      "needs_background": "light"
     },
     "output_type": "display_data"
    }
   ],
   "source": [
    "x_values = clean_city_data[\"Lat\"]\n",
    "y_values = clean_city_data[\"Max Temp\"]\n",
    "\n",
    "plt.scatter(x_values,y_values)\n",
    "\n",
    "plt.title(\"City Latitute vs. Max Temeprature\")\n",
    "plt.xlabel('Latitude')\n",
    "plt.ylabel('Max Temperature (F)')\n",
    "plt.grid()\n",
    "plt.savefig(\"output_data/latvstemp.png\")\n",
    "plt.show()"
   ]
  },
  {
   "cell_type": "markdown",
   "metadata": {},
   "source": [
    "## Latitude vs. Humidity Plot"
   ]
  },
  {
   "cell_type": "code",
   "execution_count": 89,
   "metadata": {},
   "outputs": [
    {
     "data": {
      "image/png": "[encoded data removed]",
      "text/plain": [
       "<Figure size 432x288 with 1 Axes>"
      ]
     },
     "metadata": {
      "needs_background": "light"
     },
     "output_type": "display_data"
    }
   ],
   "source": [
    "x_values = clean_city_data[\"Lat\"]\n",
    "y_values = clean_city_data[\"Humidity\"]\n",
    "\n",
    "plt.scatter(x_values,y_values)\n",
    "\n",
    "plt.title(\"City Latitute vs. Max Humidity\")\n",
    "plt.xlabel('Latitude')\n",
    "plt.ylabel('Humidity(%)')\n",
    "plt.grid()\n",
    "plt.savefig(\"output_data/latvshumidity.png\")\n",
    "plt.show()"
   ]
  },
  {
   "cell_type": "markdown",
   "metadata": {},
   "source": [
    "## Latitude vs. Cloudiness Plot"
   ]
  },
  {
   "cell_type": "code",
   "execution_count": 90,
   "metadata": {},
   "outputs": [
    {
     "data": {
      "image/png": "[encoded data removed]",
      "text/plain": [
       "<Figure size 432x288 with 1 Axes>"
      ]
     },
     "metadata": {
      "needs_background": "light"
     },
     "output_type": "display_data"
    }
   ],
   "source": [
    "x_values = clean_city_data[\"Lat\"]\n",
    "y_values = clean_city_data[\"Cloudiness\"]\n",
    "\n",
    "plt.scatter(x_values,y_values)\n",
    "\n",
    "plt.title(\"City Latitute vs. Cloudiness (%)\")\n",
    "plt.xlabel('Latitude')\n",
    "plt.ylabel('Cloudiness (%)')\n",
    "plt.grid()\n",
    "plt.savefig(\"output_data/latvscloudiness.png\")\n",
    "plt.show()"
   ]
  },
  {
   "cell_type": "markdown",
   "metadata": {},
   "source": [
    "## Latitude vs. Wind Speed Plot"
   ]
  },
  {
   "cell_type": "code",
   "execution_count": 91,
   "metadata": {},
   "outputs": [
    {
     "data": {
      "image/png": "[encoded data removed]",
      "text/plain": [
       "<Figure size 432x288 with 1 Axes>"
      ]
     },
     "metadata": {
      "needs_background": "light"
     },
     "output_type": "display_data"
    }
   ],
   "source": [
    "x_values = clean_city_data[\"Lat\"]\n",
    "y_values = clean_city_data[\"Wind Speed\"]\n",
    "\n",
    "plt.scatter(x_values,y_values)\n",
    "\n",
    "plt.title(\"City Latitute vs. Wind Speed\")\n",
    "plt.xlabel('Latitude')\n",
    "plt.ylabel('Wind Speed(mph)')\n",
    "plt.grid()\n",
    "plt.savefig(\"output_data/latvswindspeed.png\")\n",
    "plt.show()"
   ]
  },
  {
   "cell_type": "markdown",
   "metadata": {},
   "source": [
    "## Linear Regression"
   ]
  },
  {
   "cell_type": "code",
   "execution_count": 92,
   "metadata": {},
   "outputs": [],
   "source": [
    "north_hemisphere = clean_city_data.loc[clean_city_data[\"Lat\"] > 0]\n",
    "south_hemisphere = clean_city_data.loc[clean_city_data[\"Lat\"] <= 0]"
   ]
  },
  {
   "cell_type": "markdown",
   "metadata": {},
   "source": [
    "####  Northern Hemisphere - Max Temp vs. Latitude Linear Regression"
   ]
  },
  {
   "cell_type": "code",
   "execution_count": 93,
   "metadata": {},
   "outputs": [
    {
     "data": {
      "image/png": "[encoded data removed]",
      "text/plain": [
       "<Figure size 432x288 with 1 Axes>"
      ]
     },
     "metadata": {
      "needs_background": "light"
     },
     "output_type": "display_data"
    },
    {
     "name": "stdout",
     "output_type": "stream",
     "text": [
      "The r-value is: -0.8462769387208006\n"
     ]
    }
   ],
   "source": [
    "x_values = north_hemisphere['Lat']\n",
    "y_values = north_hemisphere['Max Temp']\n",
    "(slope, intercept, rvalue, pvalue, stderr) = linregress(x_values, y_values)\n",
    "regress_values = x_values * slope + intercept\n",
    "line_eq = \"y = \" + str(round(slope,2)) + \"x + \" + str(round(intercept,2))\n",
    "plt.scatter(x_values,y_values)\n",
    "plt.plot(x_values,regress_values,\"r-\")\n",
    "plt.annotate(line_eq,(5.8,0.8),fontsize=15,color=\"red\")\n",
    "plt.xlabel('Latitude')\n",
    "plt.ylabel('Max Temperature(F)')\n",
    "plt.savefig(\"output_data/latvsmaxtemp_N2.png\")\n",
    "plt.show()\n",
    "print(f\"The r-value is: {rvalue}\")"
   ]
  },
  {
   "cell_type": "markdown",
   "metadata": {},
   "source": [
    "####  Southern Hemisphere - Max Temp vs. Latitude Linear Regression"
   ]
  },
  {
   "cell_type": "code",
   "execution_count": 94,
   "metadata": {},
   "outputs": [
    {
     "data": {
      "image/png": "[encoded data removed]",
      "text/plain": [
       "<Figure size 432x288 with 1 Axes>"
      ]
     },
     "metadata": {
      "needs_background": "light"
     },
     "output_type": "display_data"
    },
    {
     "name": "stdout",
     "output_type": "stream",
     "text": [
      "The r-value is: 0.7066486857957218\n"
     ]
    }
   ],
   "source": [
    "x_values = south_hemisphere['Lat']\n",
    "y_values = south_hemisphere['Max Temp']\n",
    "(slope, intercept, rvalue, pvalue, stderr) = linregress(x_values, y_values)\n",
    "regress_values = x_values * slope + intercept\n",
    "line_eq = \"y = \" + str(round(slope,2)) + \"x + \" + str(round(intercept,2))\n",
    "plt.scatter(x_values,y_values)\n",
    "plt.plot(x_values,regress_values,\"r-\")\n",
    "plt.annotate(line_eq,(5.8,0.8),fontsize=15,color=\"red\")\n",
    "plt.xlabel('Latitude')\n",
    "plt.ylabel('Max Temperature(F)')\n",
    "plt.savefig(\"output_data/latvsmaxtemp_S2.png\")\n",
    "plt.show()\n",
    "print(f\"The r-value is: {rvalue}\")"
   ]
  },
  {
   "cell_type": "markdown",
   "metadata": {},
   "source": [
    "####  Northern Hemisphere - Humidity (%) vs. Latitude Linear Regression"
   ]
  },
  {
   "cell_type": "code",
   "execution_count": 95,
   "metadata": {},
   "outputs": [
    {
     "data": {
      "image/png": "[encoded data removed]",
      "text/plain": [
       "<Figure size 432x288 with 1 Axes>"
      ]
     },
     "metadata": {
      "needs_background": "light"
     },
     "output_type": "display_data"
    },
    {
     "name": "stdout",
     "output_type": "stream",
     "text": [
      "The r-value is: 0.1010779534621418\n"
     ]
    }
   ],
   "source": [
    "x_values = north_hemisphere['Lat']\n",
    "y_values = north_hemisphere['Humidity']\n",
    "(slope, intercept, rvalue, pvalue, stderr) = linregress(x_values, y_values)\n",
    "regress_values = x_values * slope + intercept\n",
    "line_eq = \"y = \" + str(round(slope,2)) + \"x + \" + str(round(intercept,2))\n",
    "plt.scatter(x_values,y_values)\n",
    "plt.plot(x_values,regress_values,\"r-\")\n",
    "plt.annotate(line_eq,(5.8,0.8),fontsize=15,color=\"red\")\n",
    "plt.xlabel('Latitude')\n",
    "plt.ylabel('HUmidity(%)')\n",
    "plt.savefig(\"output_data/latvshumidity_N2.png\")\n",
    "plt.show()\n",
    "print(f\"The r-value is: {rvalue}\")"
   ]
  },
  {
   "cell_type": "markdown",
   "metadata": {},
   "source": [
    "####  Southern Hemisphere - Humidity (%) vs. Latitude Linear Regression"
   ]
  },
  {
   "cell_type": "code",
   "execution_count": 96,
   "metadata": {},
   "outputs": [
    {
     "data": {
      "image/png": "[encoded data removed]",
      "text/plain": [
       "<Figure size 432x288 with 1 Axes>"
      ]
     },
     "metadata": {
      "needs_background": "light"
     },
     "output_type": "display_data"
    },
    {
     "name": "stdout",
     "output_type": "stream",
     "text": [
      "The r-value is: 0.1502391766092854\n"
     ]
    }
   ],
   "source": [
    "x_values = south_hemisphere['Lat']\n",
    "y_values = south_hemisphere['Humidity']\n",
    "(slope, intercept, rvalue, pvalue, stderr) = linregress(x_values, y_values)\n",
    "regress_values = x_values * slope + intercept\n",
    "line_eq = \"y = \" + str(round(slope,2)) + \"x + \" + str(round(intercept,2))\n",
    "plt.scatter(x_values,y_values)\n",
    "plt.plot(x_values,regress_values,\"r-\")\n",
    "plt.annotate(line_eq,(5.8,0.8),fontsize=15,color=\"red\")\n",
    "plt.xlabel('Latitude')\n",
    "plt.ylabel('Humidity(%)')\n",
    "plt.savefig(\"output_data/latvshumidity_S2.png\")\n",
    "plt.show()\n",
    "print(f\"The r-value is: {rvalue}\")"
   ]
  },
  {
   "cell_type": "markdown",
   "metadata": {},
   "source": [
    "####  Northern Hemisphere - Cloudiness (%) vs. Latitude Linear Regression"
   ]
  },
  {
   "cell_type": "code",
   "execution_count": 97,
   "metadata": {},
   "outputs": [
    {
     "data": {
      "image/png": "[encoded data removed]",
      "text/plain": [
       "<Figure size 432x288 with 1 Axes>"
      ]
     },
     "metadata": {
      "needs_background": "light"
     },
     "output_type": "display_data"
    },
    {
     "name": "stdout",
     "output_type": "stream",
     "text": [
      "The r-value is: 0.13988501088329297\n"
     ]
    }
   ],
   "source": [
    "x_values = north_hemisphere['Lat']\n",
    "y_values = north_hemisphere['Cloudiness']\n",
    "(slope, intercept, rvalue, pvalue, stderr) = linregress(x_values, y_values)\n",
    "regress_values = x_values * slope + intercept\n",
    "line_eq = \"y = \" + str(round(slope,2)) + \"x + \" + str(round(intercept,2))\n",
    "plt.scatter(x_values,y_values)\n",
    "plt.plot(x_values,regress_values,\"r-\")\n",
    "plt.annotate(line_eq,(5.8,0.8),fontsize=15,color=\"red\")\n",
    "plt.xlabel('Latitude')\n",
    "plt.ylabel('Cloudiness(%)')\n",
    "plt.savefig(\"output_data/latvscloudiness_N2.png\")\n",
    "plt.show()\n",
    "print(f\"The r-value is: {rvalue}\")"
   ]
  },
  {
   "cell_type": "markdown",
   "metadata": {},
   "source": [
    "####  Southern Hemisphere - Cloudiness (%) vs. Latitude Linear Regression"
   ]
  },
  {
   "cell_type": "code",
   "execution_count": 98,
   "metadata": {},
   "outputs": [
    {
     "data": {
      "image/png": "[encoded data removed]",
      "text/plain": [
       "<Figure size 432x288 with 1 Axes>"
      ]
     },
     "metadata": {
      "needs_background": "light"
     },
     "output_type": "display_data"
    },
    {
     "name": "stdout",
     "output_type": "stream",
     "text": [
      "The r-value is: 0.09415916510433629\n"
     ]
    }
   ],
   "source": [
    "x_values = south_hemisphere['Lat']\n",
    "y_values = south_hemisphere['Cloudiness']\n",
    "(slope, intercept, rvalue, pvalue, stderr) = linregress(x_values, y_values)\n",
    "regress_values = x_values * slope + intercept\n",
    "line_eq = \"y = \" + str(round(slope,2)) + \"x + \" + str(round(intercept,2))\n",
    "plt.scatter(x_values,y_values)\n",
    "plt.plot(x_values,regress_values,\"r-\")\n",
    "plt.annotate(line_eq,(5.8,0.8),fontsize=15,color=\"red\")\n",
    "plt.xlabel('Latitude')\n",
    "plt.ylabel('Cloudiness(%)')\n",
    "plt.savefig(\"output_data/latvscloudiness_S2.png\")\n",
    "plt.show()\n",
    "print(f\"The r-value is: {rvalue}\")"
   ]
  },
  {
   "cell_type": "markdown",
   "metadata": {},
   "source": [
    "####  Northern Hemisphere - Wind Speed (mph) vs. Latitude Linear Regression"
   ]
  },
  {
   "cell_type": "code",
   "execution_count": 99,
   "metadata": {},
   "outputs": [
    {
     "data": {
      "image/png": "[encoded data removed]",
      "text/plain": [
       "<Figure size 432x288 with 1 Axes>"
      ]
     },
     "metadata": {
      "needs_background": "light"
     },
     "output_type": "display_data"
    },
    {
     "name": "stdout",
     "output_type": "stream",
     "text": [
      "The r-value is: 0.17758801126474916\n"
     ]
    }
   ],
   "source": [
    "x_values = north_hemisphere['Lat']\n",
    "y_values = north_hemisphere[\"Wind Speed\"]\n",
    "(slope, intercept, rvalue, pvalue, stderr) = linregress(x_values, y_values)\n",
    "regress_values = x_values * slope + intercept\n",
    "line_eq = \"y = \" + str(round(slope,2)) + \"x + \" + str(round(intercept,2))\n",
    "plt.scatter(x_values,y_values)\n",
    "plt.plot(x_values,regress_values,\"r-\")\n",
    "plt.annotate(line_eq,(5.8,0.8),fontsize=15,color=\"red\")\n",
    "plt.xlabel('Latitude')\n",
    "plt.ylabel('Wind Speed(mph)')\n",
    "plt.savefig(\"output_data/latvswindspeed_N2.png\")\n",
    "plt.show()\n",
    "print(f\"The r-value is: {rvalue}\")"
   ]
  },
  {
   "cell_type": "markdown",
   "metadata": {},
   "source": [
    "####  Southern Hemisphere - Wind Speed (mph) vs. Latitude Linear Regression"
   ]
  },
  {
   "cell_type": "code",
   "execution_count": 100,
   "metadata": {},
   "outputs": [
    {
     "data": {
      "image/png": "[encoded data removed]",
      "text/plain": [
       "<Figure size 432x288 with 1 Axes>"
      ]
     },
     "metadata": {
      "needs_background": "light"
     },
     "output_type": "display_data"
    },
    {
     "name": "stdout",
     "output_type": "stream",
     "text": [
      "The r-value is: -0.31814439794748206\n"
     ]
    }
   ],
   "source": [
    "x_values = south_hemisphere['Lat']\n",
    "y_values = south_hemisphere[\"Wind Speed\"]\n",
    "(slope, intercept, rvalue, pvalue, stderr) = linregress(x_values, y_values)\n",
    "regress_values = x_values * slope + intercept\n",
    "line_eq = \"y = \" + str(round(slope,2)) + \"x + \" + str(round(intercept,2))\n",
    "plt.scatter(x_values,y_values)\n",
    "plt.plot(x_values,regress_values,\"r-\")\n",
    "plt.annotate(line_eq,(5.8,0.8),fontsize=15,color=\"red\")\n",
    "plt.xlabel('Latitude')\n",
    "plt.ylabel('Wind Speed(mph)')\n",
    "plt.savefig(\"output_data/latvswindspeed_S2.png\")\n",
    "plt.show()\n",
    "print(f\"The r-value is: {rvalue}\")"
   ]
  },
  {
   "cell_type": "code",
   "execution_count": null,
   "metadata": {},
   "outputs": [],
   "source": []
  },
  {
   "cell_type": "code",
   "execution_count": null,
   "metadata": {},
   "outputs": [],
   "source": []
  }
 ],
 "metadata": {
  "anaconda-cloud": {},
  "kernel_info": {
   "name": "python3"
  },
  "kernelspec": {
   "display_name": "PythonData",
   "language": "python",
   "name": "pythondata"
  },
  "language_info": {
   "codemirror_mode": {
    "name": "ipython",
    "version": 3
   },
   "file_extension": ".py",
   "mimetype": "text/x-python",
   "name": "python",
   "nbconvert_exporter": "python",
   "pygments_lexer": "ipython3",
   "version": "3.9.12"
  },
  "latex_envs": {
   "LaTeX_envs_menu_present": true,
   "autoclose": false,
   "autocomplete": true,
   "bibliofile": "biblio.bib",
   "cite_by": "apalike",
   "current_citInitial": 1,
   "eqLabelWithNumbers": true,
   "eqNumInitial": 1,
   "hotkeys": {
    "equation": "Ctrl-E",
    "itemize": "Ctrl-I"
   },
   "labels_anchors": false,
   "latex_user_defs": false,
   "report_style_numbering": false,
   "user_envs_cfg": false
  },
  "nteract": {
   "version": "0.12.3"
  }
 },
 "nbformat": 4,
 "nbformat_minor": 2
}
